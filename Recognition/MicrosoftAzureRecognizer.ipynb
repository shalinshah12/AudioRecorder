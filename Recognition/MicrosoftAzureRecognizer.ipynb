{
 "cells": [
  {
   "cell_type": "code",
   "execution_count": 1,
   "metadata": {
    "colab": {
     "base_uri": "https://localhost:8080/"
    },
    "executionInfo": {
     "elapsed": 4752,
     "status": "ok",
     "timestamp": 1632947586273,
     "user": {
      "displayName": "Pratik Nagelia",
      "photoUrl": "https://lh3.googleusercontent.com/a-/AOh14GhOSCcWFsaLp4SqS0bQonpKsgiXwcYY2w_a4xoR=s64",
      "userId": "11002211455528701218"
     },
     "user_tz": 240
    },
    "id": "8vidMMlgCyM4",
    "outputId": "df4fc2a9-5b15-4b92-9fe7-04079d76e6b5"
   },
   "outputs": [
    {
     "name": "stdout",
     "output_type": "stream",
     "text": [
      "Collecting azure-cognitiveservices-speech\n",
      "  Downloading azure_cognitiveservices_speech-1.20.0-cp38-cp38-win_amd64.whl (1.7 MB)\n",
      "Installing collected packages: azure-cognitiveservices-speech\n",
      "Successfully installed azure-cognitiveservices-speech-1.20.0\n"
     ]
    }
   ],
   "source": [
    "!pip install azure-cognitiveservices-speech"
   ]
  },
  {
   "cell_type": "code",
   "execution_count": 1,
   "metadata": {
    "executionInfo": {
     "elapsed": 257,
     "status": "ok",
     "timestamp": 1632947586527,
     "user": {
      "displayName": "Pratik Nagelia",
      "photoUrl": "https://lh3.googleusercontent.com/a-/AOh14GhOSCcWFsaLp4SqS0bQonpKsgiXwcYY2w_a4xoR=s64",
      "userId": "11002211455528701218"
     },
     "user_tz": 240
    },
    "id": "WP-muz5bDFLC"
   },
   "outputs": [],
   "source": [
    "import azure.cognitiveservices.speech as speechsdk\n",
    "import glob, os #To access audio files from drive"
   ]
  },
  {
   "cell_type": "code",
   "execution_count": 2,
   "metadata": {
    "executionInfo": {
     "elapsed": 11,
     "status": "ok",
     "timestamp": 1632947586528,
     "user": {
      "displayName": "Pratik Nagelia",
      "photoUrl": "https://lh3.googleusercontent.com/a-/AOh14GhOSCcWFsaLp4SqS0bQonpKsgiXwcYY2w_a4xoR=s64",
      "userId": "11002211455528701218"
     },
     "user_tz": 240
    },
    "id": "lOZ-o-l8DJyT"
   },
   "outputs": [],
   "source": [
    "## API Keys for Azure\n",
    "\n",
    "subscription_key = \"326c05844287429f904bff80816015e9\"\n",
    "region = \"eastus\""
   ]
  },
  {
   "cell_type": "code",
   "execution_count": 3,
   "metadata": {
    "executionInfo": {
     "elapsed": 11,
     "status": "ok",
     "timestamp": 1632947586529,
     "user": {
      "displayName": "Pratik Nagelia",
      "photoUrl": "https://lh3.googleusercontent.com/a-/AOh14GhOSCcWFsaLp4SqS0bQonpKsgiXwcYY2w_a4xoR=s64",
      "userId": "11002211455528701218"
     },
     "user_tz": 240
    },
    "id": "GDCZXDvyDIn6"
   },
   "outputs": [],
   "source": [
    "def audioRecognizer(audioFile, myList):\n",
    "    speech_config = speechsdk.SpeechConfig(subscription=subscription_key, region=region)\n",
    "    speech_config.output_format=speechsdk.OutputFormat.Detailed\n",
    "    audio_input = speechsdk.AudioConfig(filename=audioFile)\n",
    "    speech_recognizer = speechsdk.SpeechRecognizer(speech_config=speech_config, audio_config=audio_input)\n",
    "    \n",
    "    result = speech_recognizer.recognize_once_async().get()\n",
    "    myList.append(result.json)\n",
    "    print(result.json)"
   ]
  },
  {
   "cell_type": "code",
   "execution_count": 4,
   "metadata": {
    "colab": {
     "base_uri": "https://localhost:8080/"
    },
    "executionInfo": {
     "elapsed": 11,
     "status": "ok",
     "timestamp": 1632947586529,
     "user": {
      "displayName": "Pratik Nagelia",
      "photoUrl": "https://lh3.googleusercontent.com/a-/AOh14GhOSCcWFsaLp4SqS0bQonpKsgiXwcYY2w_a4xoR=s64",
      "userId": "11002211455528701218"
     },
     "user_tz": 240
    },
    "id": "Tx1jv9CPD6Tt",
    "outputId": "b00db2b2-a4a9-47ee-c6df-5b4fe747b61b"
   },
   "outputs": [
    {
     "name": "stdout",
     "output_type": "stream",
     "text": [
      "D:\\Stony Brook Courses\\CSE523\\Recognition\\fetch\\uploads\n"
     ]
    }
   ],
   "source": [
    "%cd \"D:\\Stony Brook Courses\\CSE523\\Recognition\\fetch\\uploads\\\""
   ]
  },
  {
   "cell_type": "code",
   "execution_count": 5,
   "metadata": {},
   "outputs": [],
   "source": [
    "file = open(\"D:\\\\Stony Brook Courses\\\\CSE523\\\\Recognition\\\\fetch\\\\commands.txt\", \"r\")\n",
    "phrases = []\n",
    "for line in file:\n",
    "    phrases.append(line.strip().split(\"|\")[0])\n",
    "phrases1 = phrases[:32]\n",
    "phrases2 = phrases[32:]"
   ]
  },
  {
   "cell_type": "code",
   "execution_count": 6,
   "metadata": {},
   "outputs": [
    {
     "name": "stdout",
     "output_type": "stream",
     "text": [
      "['close the browser', 'copy the folder', 'go back', 'go forward', 'next slide', 'open window', 'open youtube', 'print document', 'restart computer', 'search on google', 'set out', 'shut down the system', 'take screenshot', 'turn up volume', 'go home', 'drill down', 'turn off voice control', 'show hints', 'show confirmation', 'open control center', 'play a song', 'Navigate to place', 'nearest coffee shop', 'set an alarm', 'remind me to go to party', 'create calendar event', 'show my search history', 'open privacy settings', 'send an email', 'invite for a meeting', 'tell me a joke', 'watch titanic'] ['Pick up the bowl and place it in front of the cheez-it box', 'Pick up the spoon and place it next to the bowl', 'Pick up the cup and place it on top of the table', 'Pick up the spoon', 'Place the bowl in front of me', 'Place the plate on the table', 'Move the cup to the right', 'Move the cup to the left of the bowl', 'Bring the cup to me', 'Bring the spoon closer', 'Bring me some water', 'Throw the apple into the trash can', 'Place the mug in the sink', 'Place the dish in the dishwasher', 'Open the box', 'Close the door', 'Hold the door open', 'Place the dishes in the dish rack', 'Place the book in the shelf', 'Place the book in the drawer', 'Pour some water into the cup', 'Pour some juice into the cup', 'Pour some cereal into the bowl', 'Get the milk from the fridge', 'Get the pen from the drawer', 'Get me some salt', 'Get me some pepper', 'Get me the blue cup', 'Turn on the switch', 'Turn off the switch', 'Move to the left', 'Move to the right']\n"
     ]
    }
   ],
   "source": [
    "print(phrases1, phrases2)"
   ]
  },
  {
   "cell_type": "code",
   "execution_count": 14,
   "metadata": {
    "colab": {
     "base_uri": "https://localhost:8080/"
    },
    "executionInfo": {
     "elapsed": 165194,
     "status": "ok",
     "timestamp": 1632947751718,
     "user": {
      "displayName": "Pratik Nagelia",
      "photoUrl": "https://lh3.googleusercontent.com/a-/AOh14GhOSCcWFsaLp4SqS0bQonpKsgiXwcYY2w_a4xoR=s64",
      "userId": "11002211455528701218"
     },
     "user_tz": 240
    },
    "id": "amiOeJZOD32Q",
    "outputId": "b8f81e59-efc2-4ee0-9abc-8eab7ebbbdf4"
   },
   "outputs": [
    {
     "name": "stdout",
     "output_type": "stream",
     "text": [
      "{\"Id\":\"35527f67f54f44f8911096cd77e5445e\",\"RecognitionStatus\":\"Success\",\"Offset\":11400000,\"Duration\":17500000,\"DisplayText\":\"Bring me some water.\",\"NBest\":[{\"Confidence\":0.7564853,\"Lexical\":\"bring me some water\",\"ITN\":\"bring me some water\",\"MaskedITN\":\"bring me some water\",\"Display\":\"Bring me some water.\"},{\"Confidence\":0.6386989,\"Lexical\":\"bringing me some water\",\"ITN\":\"bringing me some water\",\"MaskedITN\":\"bringing me some water\",\"Display\":\"bringing me some water\"},{\"Confidence\":0.6680599,\"Lexical\":\"bring me some water are\",\"ITN\":\"bring me some water are\",\"MaskedITN\":\"bring me some water are\",\"Display\":\"bring me some water are\"},{\"Confidence\":0.6545502,\"Lexical\":\"bring me some water for\",\"ITN\":\"bring me some water for\",\"MaskedITN\":\"bring me some water for\",\"Display\":\"bring me some water for\"},{\"Confidence\":0.7417185,\"Lexical\":\"bring me some water i\",\"ITN\":\"bring me some water i\",\"MaskedITN\":\"bring me some water i\",\"Display\":\"bring me some water i\"}]}\n",
      "{\"Id\":\"6703cddf8048426f98d688f7d668c3be\",\"RecognitionStatus\":\"Success\",\"Offset\":10600000,\"Duration\":17700000,\"DisplayText\":\"Bring the cup to me.\",\"NBest\":[{\"Confidence\":0.6839222,\"Lexical\":\"bring the cup to me\",\"ITN\":\"bring the cup to me\",\"MaskedITN\":\"bring the cup to me\",\"Display\":\"Bring the cup to me.\"},{\"Confidence\":0.6294479,\"Lexical\":\"bringing the cup to me\",\"ITN\":\"bringing the cup to me\",\"MaskedITN\":\"bringing the cup to me\",\"Display\":\"bringing the cup to me\"},{\"Confidence\":0.6383826,\"Lexical\":\"bring the come up to me\",\"ITN\":\"bring the come up to me\",\"MaskedITN\":\"bring the come up to me\",\"Display\":\"bring the come up to me\"},{\"Confidence\":0.54725593,\"Lexical\":\"bring the cup tomy\",\"ITN\":\"bring the cup tomy\",\"MaskedITN\":\"bring the cup tomy\",\"Display\":\"bring the cup tomy\"},{\"Confidence\":0.64567006,\"Lexical\":\"bring the cups to me\",\"ITN\":\"bring the cups to me\",\"MaskedITN\":\"bring the cups to me\",\"Display\":\"bring the cups to me\"}]}\n",
      "{\"Id\":\"fe899297935c483e9a73e6fbf6fc0075\",\"RecognitionStatus\":\"Success\",\"Offset\":11000000,\"Duration\":20500000,\"DisplayText\":\"Bring the spoon closer.\",\"NBest\":[{\"Confidence\":0.69899863,\"Lexical\":\"bring the spoon closer\",\"ITN\":\"bring the spoon closer\",\"MaskedITN\":\"bring the spoon closer\",\"Display\":\"Bring the spoon closer.\"},{\"Confidence\":0.65097356,\"Lexical\":\"bringing the spoon closer\",\"ITN\":\"bringing the spoon closer\",\"MaskedITN\":\"bringing the spoon closer\",\"Display\":\"bringing the spoon closer\"},{\"Confidence\":0.6609907,\"Lexical\":\"bring the spoon closure\",\"ITN\":\"bring the spoon closure\",\"MaskedITN\":\"bring the spoon closure\",\"Display\":\"bring the spoon closure\"},{\"Confidence\":0.61296564,\"Lexical\":\"bringing the spoon closure\",\"ITN\":\"bringing the spoon closure\",\"MaskedITN\":\"bringing the spoon closure\",\"Display\":\"bringing the spoon closure\"},{\"Confidence\":0.6140095,\"Lexical\":\"bring the spoon clothes are\",\"ITN\":\"bring the spoon clothes are\",\"MaskedITN\":\"bring the spoon clothes are\",\"Display\":\"bring the spoon clothes are\"}]}\n",
      "{\"Id\":\"f1c2ec6c73704a8a8cd1decefd84e8cf\",\"RecognitionStatus\":\"Success\",\"Offset\":12600000,\"Duration\":18500000,\"DisplayText\":\"Who is the browser?\",\"NBest\":[{\"Confidence\":0.53690517,\"Lexical\":\"who is the browser\",\"ITN\":\"who is the browser\",\"MaskedITN\":\"who is the browser\",\"Display\":\"Who is the browser?\"},{\"Confidence\":0.50660974,\"Lexical\":\"loses the browser\",\"ITN\":\"loses the browser\",\"MaskedITN\":\"loses the browser\",\"Display\":\"loses the browser\"},{\"Confidence\":0.5171704,\"Lexical\":\"who's the browser\",\"ITN\":\"who's the browser\",\"MaskedITN\":\"who's the browser\",\"Display\":\"who's the browser\"},{\"Confidence\":0.49278992,\"Lexical\":\"who's is the browser\",\"ITN\":\"who's is the browser\",\"MaskedITN\":\"who's is the browser\",\"Display\":\"who's is the browser\"},{\"Confidence\":0.4741858,\"Lexical\":\"who was the browser\",\"ITN\":\"who was the browser\",\"MaskedITN\":\"who was the browser\",\"Display\":\"who was the browser\"}]}\n",
      "{\"Id\":\"b446aca936fe4c53a9fe39cb522a54a7\",\"RecognitionStatus\":\"Success\",\"Offset\":9100000,\"Duration\":14400000,\"DisplayText\":\"Close the door.\",\"NBest\":[{\"Confidence\":0.66170096,\"Lexical\":\"close the door\",\"ITN\":\"close the door\",\"MaskedITN\":\"close the door\",\"Display\":\"Close the door.\"},{\"Confidence\":0.55671936,\"Lexical\":\"close the doors\",\"ITN\":\"close the doors\",\"MaskedITN\":\"close the doors\",\"Display\":\"close the doors\"},{\"Confidence\":0.5580997,\"Lexical\":\"close the door or\",\"ITN\":\"close the door or\",\"MaskedITN\":\"close the door or\",\"Display\":\"close the door or\"},{\"Confidence\":0.50722957,\"Lexical\":\"close the dorr\",\"ITN\":\"close the dorr\",\"MaskedITN\":\"close the dorr\",\"Display\":\"close the dorr\"},{\"Confidence\":0.5988812,\"Lexical\":\"lose the door\",\"ITN\":\"lose the door\",\"MaskedITN\":\"lose the door\",\"Display\":\"lose the door\"}]}\n",
      "{\"Id\":\"00ac2aabbe044a878a29b4fa35767bf6\",\"RecognitionStatus\":\"Success\",\"Offset\":12200000,\"Duration\":13200000,\"DisplayText\":\"Copy the folder.\",\"NBest\":[{\"Confidence\":0.80938435,\"Lexical\":\"copy the folder\",\"ITN\":\"copy the folder\",\"MaskedITN\":\"copy the folder\",\"Display\":\"Copy the folder.\"},{\"Confidence\":0.75294447,\"Lexical\":\"copied the folder\",\"ITN\":\"copied the folder\",\"MaskedITN\":\"copied the folder\",\"Display\":\"copied the folder\"},{\"Confidence\":0.7856032,\"Lexical\":\"i copy the folder\",\"ITN\":\"i copy the folder\",\"MaskedITN\":\"i copy the folder\",\"Display\":\"i copy the folder\"},{\"Confidence\":0.77965033,\"Lexical\":\"copy the folders\",\"ITN\":\"copy the folders\",\"MaskedITN\":\"copy the folders\",\"Display\":\"copy the folders\"},{\"Confidence\":0.7490268,\"Lexical\":\"copy the folder are\",\"ITN\":\"copy the folder are\",\"MaskedITN\":\"copy the folder are\",\"Display\":\"copy the folder are\"}]}\n",
      "{\"Id\":\"57ec4afe2b6b44a494163ca37072f0fd\",\"RecognitionStatus\":\"Success\",\"Offset\":10700000,\"Duration\":18700000,\"DisplayText\":\"Create calendar event.\",\"NBest\":[{\"Confidence\":0.84508467,\"Lexical\":\"create calendar event\",\"ITN\":\"create calendar event\",\"MaskedITN\":\"create calendar event\",\"Display\":\"Create calendar event.\"},{\"Confidence\":0.8333327,\"Lexical\":\"create a calendar event\",\"ITN\":\"create a calendar event\",\"MaskedITN\":\"create a calendar event\",\"Display\":\"create a calendar event\"},{\"Confidence\":0.82659626,\"Lexical\":\"create calendar events\",\"ITN\":\"create calendar events\",\"MaskedITN\":\"create calendar events\",\"Display\":\"create calendar events\"},{\"Confidence\":0.7994345,\"Lexical\":\"create a calendar events\",\"ITN\":\"create a calendar events\",\"MaskedITN\":\"create a calendar events\",\"Display\":\"create a calendar events\"},{\"Confidence\":0.83375245,\"Lexical\":\"create calendar event i\",\"ITN\":\"create calendar event i\",\"MaskedITN\":\"create calendar event i\",\"Display\":\"create calendar event i\"}]}\n",
      "{\"Id\":\"82c745ac578b4e659ea8bb74361b089f\",\"RecognitionStatus\":\"Success\",\"Offset\":14100000,\"Duration\":13300000,\"DisplayText\":\"Drill down.\",\"NBest\":[{\"Confidence\":0.78872633,\"Lexical\":\"drill down\",\"ITN\":\"drill down\",\"MaskedITN\":\"drill down\",\"Display\":\"Drill down.\"},{\"Confidence\":0.72928464,\"Lexical\":\"drilled down\",\"ITN\":\"drilled down\",\"MaskedITN\":\"drilled down\",\"Display\":\"drilled down\"},{\"Confidence\":0.7199086,\"Lexical\":\"dril down\",\"ITN\":\"dril down\",\"MaskedITN\":\"dril down\",\"Display\":\"dril down\"},{\"Confidence\":0.69290805,\"Lexical\":\"drilling down\",\"ITN\":\"drilling down\",\"MaskedITN\":\"drilling down\",\"Display\":\"drilling down\"},{\"Confidence\":0.76955664,\"Lexical\":\"drill down on\",\"ITN\":\"drill down on\",\"MaskedITN\":\"drill down on\",\"Display\":\"drill down on\"}]}\n",
      "{\"Id\":\"898f1b51df1e4a25bd28a9accf11f824\",\"RecognitionStatus\":\"Success\",\"Offset\":7300000,\"Duration\":15100000,\"DisplayText\":\"Get me some pepper.\",\"NBest\":[{\"Confidence\":0.85490793,\"Lexical\":\"get me some pepper\",\"ITN\":\"get me some pepper\",\"MaskedITN\":\"get me some pepper\",\"Display\":\"Get me some pepper.\"},{\"Confidence\":0.87378955,\"Lexical\":\"get me some paper\",\"ITN\":\"get me some paper\",\"MaskedITN\":\"get me some paper\",\"Display\":\"get me some paper\"},{\"Confidence\":0.7875665,\"Lexical\":\"get me some peppers\",\"ITN\":\"get me some peppers\",\"MaskedITN\":\"get me some peppers\",\"Display\":\"get me some peppers\"},{\"Confidence\":0.73595035,\"Lexical\":\"get me sum pepper\",\"ITN\":\"get me sum pepper\",\"MaskedITN\":\"get me sum pepper\",\"Display\":\"get me sum pepper\"},{\"Confidence\":0.81447756,\"Lexical\":\"get me some papers\",\"ITN\":\"get me some papers\",\"MaskedITN\":\"get me some papers\",\"Display\":\"get me some papers\"}]}\n",
      "{\"Id\":\"30118c81a7404bc0b82ea4bb7699ff8f\",\"RecognitionStatus\":\"Success\",\"Offset\":14300000,\"Duration\":19500000,\"DisplayText\":\"Get me some salt.\",\"NBest\":[{\"Confidence\":0.6203019,\"Lexical\":\"get me some salt\",\"ITN\":\"get me some salt\",\"MaskedITN\":\"get me some salt\",\"Display\":\"Get me some salt.\"},{\"Confidence\":0.582337,\"Lexical\":\"get me some fault\",\"ITN\":\"get me some fault\",\"MaskedITN\":\"get me some fault\",\"Display\":\"get me some fault\"},{\"Confidence\":0.52923775,\"Lexical\":\"get me some faults\",\"ITN\":\"get me some faults\",\"MaskedITN\":\"get me some faults\",\"Display\":\"get me some faults\"},{\"Confidence\":0.5210555,\"Lexical\":\"get me some salts\",\"ITN\":\"get me some salts\",\"MaskedITN\":\"get me some salts\",\"Display\":\"get me some salts\"},{\"Confidence\":0.54203266,\"Lexical\":\"get me some sault\",\"ITN\":\"get me some sault\",\"MaskedITN\":\"get me some sault\",\"Display\":\"get me some sault\"}]}\n"
     ]
    },
    {
     "name": "stdout",
     "output_type": "stream",
     "text": [
      "{\"Id\":\"562063e21d4a481babc60c26cf9678df\",\"RecognitionStatus\":\"Success\",\"Offset\":9300000,\"Duration\":16700000,\"DisplayText\":\"Get me the blue cup.\",\"NBest\":[{\"Confidence\":0.72778875,\"Lexical\":\"get me the blue cup\",\"ITN\":\"get me the blue cup\",\"MaskedITN\":\"get me the blue cup\",\"Display\":\"Get me the blue cup.\"},{\"Confidence\":0.61954695,\"Lexical\":\"get me the blu cup\",\"ITN\":\"get me the blu cup\",\"MaskedITN\":\"get me the blu cup\",\"Display\":\"get me the blu cup\"},{\"Confidence\":0.64396805,\"Lexical\":\"get me the blue cupp\",\"ITN\":\"get me the blue cupp\",\"MaskedITN\":\"get me the blue cupp\",\"Display\":\"get me the blue cupp\"},{\"Confidence\":0.627047,\"Lexical\":\"get me the bleu cup\",\"ITN\":\"get me the bleu cup\",\"MaskedITN\":\"get me the bleu cup\",\"Display\":\"get me the bleu cup\"},{\"Confidence\":0.62222314,\"Lexical\":\"get me the blue cups\",\"ITN\":\"get me the blue cups\",\"MaskedITN\":\"get me the blue cups\",\"Display\":\"get me the blue cups\"}]}\n",
      "{\"Id\":\"df8cbcdef54c4177b1c7e9463e61e19e\",\"RecognitionStatus\":\"Success\",\"Offset\":9200000,\"Duration\":23100000,\"DisplayText\":\"Get the milk from the fridge.\",\"NBest\":[{\"Confidence\":0.8820748,\"Lexical\":\"get the milk from the fridge\",\"ITN\":\"get the milk from the fridge\",\"MaskedITN\":\"get the milk from the fridge\",\"Display\":\"Get the milk from the fridge.\"},{\"Confidence\":0.89546156,\"Lexical\":\"i get the milk from the fridge\",\"ITN\":\"i get the milk from the fridge\",\"MaskedITN\":\"i get the milk from the fridge\",\"Display\":\"i get the milk from the fridge\"},{\"Confidence\":0.8719932,\"Lexical\":\"get the milk from the fridge i\",\"ITN\":\"get the milk from the fridge i\",\"MaskedITN\":\"get the milk from the fridge i\",\"Display\":\"get the milk from the fridge i\"},{\"Confidence\":0.81224173,\"Lexical\":\"get the milk from the frige\",\"ITN\":\"get the milk from the frige\",\"MaskedITN\":\"get the milk from the frige\",\"Display\":\"get the milk from the frige\"},{\"Confidence\":0.80942506,\"Lexical\":\"get the milk from the fridg\",\"ITN\":\"get the milk from the fridg\",\"MaskedITN\":\"get the milk from the fridg\",\"Display\":\"get the milk from the fridg\"}]}\n",
      "{\"Id\":\"55b4df2352104a7f8e1caa5e21184eb8\",\"RecognitionStatus\":\"Success\",\"Offset\":10200000,\"Duration\":21400000,\"DisplayText\":\"Get the pen from the drawer.\",\"NBest\":[{\"Confidence\":0.7083108,\"Lexical\":\"get the pen from the drawer\",\"ITN\":\"get the pen from the drawer\",\"MaskedITN\":\"get the pen from the drawer\",\"Display\":\"Get the pen from the drawer.\"},{\"Confidence\":0.6881816,\"Lexical\":\"get the pan from the drawer\",\"ITN\":\"get the pan from the drawer\",\"MaskedITN\":\"get the pan from the drawer\",\"Display\":\"get the pan from the drawer\"},{\"Confidence\":0.69084895,\"Lexical\":\"get the pain from the drawer\",\"ITN\":\"get the pain from the drawer\",\"MaskedITN\":\"get the pain from the drawer\",\"Display\":\"get the pain from the drawer\"},{\"Confidence\":0.6567392,\"Lexical\":\"get the penn from the drawer\",\"ITN\":\"get the penn from the drawer\",\"MaskedITN\":\"get the penn from the drawer\",\"Display\":\"get the penn from the drawer\"},{\"Confidence\":0.6288919,\"Lexical\":\"get the pen from their drawer\",\"ITN\":\"get the pen from their drawer\",\"MaskedITN\":\"get the pen from their drawer\",\"Display\":\"get the pen from their drawer\"}]}\n",
      "{\"Id\":\"bc8b57b4387547018c9e1a739b34a22b\",\"RecognitionStatus\":\"Success\",\"Offset\":4500000,\"Duration\":14100000,\"DisplayText\":\"Go back.\",\"NBest\":[{\"Confidence\":0.6518831,\"Lexical\":\"go back\",\"ITN\":\"go back\",\"MaskedITN\":\"go back\",\"Display\":\"Go back.\"},{\"Confidence\":0.6447642,\"Lexical\":\"i go back\",\"ITN\":\"i go back\",\"MaskedITN\":\"i go back\",\"Display\":\"i go back\"},{\"Confidence\":0.50225765,\"Lexical\":\"go go back\",\"ITN\":\"go go back\",\"MaskedITN\":\"go go back\",\"Display\":\"go go back\"},{\"Confidence\":0.6191075,\"Lexical\":\"go back to\",\"ITN\":\"go back to\",\"MaskedITN\":\"go back to\",\"Display\":\"go back to\"},{\"Confidence\":0.44558218,\"Lexical\":\"go to back\",\"ITN\":\"go to back\",\"MaskedITN\":\"go to back\",\"Display\":\"go to back\"}]}\n",
      "{\"Id\":\"d3f8d1a55c3b433a9d5eccfd394a9f6d\",\"RecognitionStatus\":\"Success\",\"Offset\":6400000,\"Duration\":13800000,\"DisplayText\":\"Go forward.\",\"NBest\":[{\"Confidence\":0.73257697,\"Lexical\":\"go forward\",\"ITN\":\"go forward\",\"MaskedITN\":\"go forward\",\"Display\":\"Go forward.\"},{\"Confidence\":0.7009379,\"Lexical\":\"i go forward\",\"ITN\":\"i go forward\",\"MaskedITN\":\"i go forward\",\"Display\":\"i go forward\"},{\"Confidence\":0.5826614,\"Lexical\":\"go go forward\",\"ITN\":\"go go forward\",\"MaskedITN\":\"go go forward\",\"Display\":\"go go forward\"},{\"Confidence\":0.5674296,\"Lexical\":\"go to forward\",\"ITN\":\"go to forward\",\"MaskedITN\":\"go to forward\",\"Display\":\"go to forward\"},{\"Confidence\":0.5395935,\"Lexical\":\"go foreword\",\"ITN\":\"go foreword\",\"MaskedITN\":\"go foreword\",\"Display\":\"go foreword\"}]}\n",
      "{\"Id\":\"1e5d450b115a4bc786bbc13c4bcfb0f2\",\"RecognitionStatus\":\"Success\",\"Offset\":9000000,\"Duration\":12700000,\"DisplayText\":\"Go home.\",\"NBest\":[{\"Confidence\":0.75376606,\"Lexical\":\"go home\",\"ITN\":\"go home\",\"MaskedITN\":\"go home\",\"Display\":\"Go home.\"},{\"Confidence\":0.616777,\"Lexical\":\"go to home\",\"ITN\":\"go to home\",\"MaskedITN\":\"go to home\",\"Display\":\"go to home\"},{\"Confidence\":0.7606069,\"Lexical\":\"i go home\",\"ITN\":\"i go home\",\"MaskedITN\":\"i go home\",\"Display\":\"i go home\"},{\"Confidence\":0.59591293,\"Lexical\":\"go go home\",\"ITN\":\"go go home\",\"MaskedITN\":\"go go home\",\"Display\":\"go go home\"},{\"Confidence\":0.7366817,\"Lexical\":\"go home oh\",\"ITN\":\"go home oh\",\"MaskedITN\":\"go home oh\",\"Display\":\"go home oh\"}]}\n",
      "{\"Id\":\"5b28acda752945d78872eb3b3336ab9a\",\"RecognitionStatus\":\"Success\",\"Offset\":12900000,\"Duration\":17200000,\"DisplayText\":\"Hold the door open.\",\"NBest\":[{\"Confidence\":0.7846897,\"Lexical\":\"hold the door open\",\"ITN\":\"hold the door open\",\"MaskedITN\":\"hold the door open\",\"Display\":\"Hold the door open.\"},{\"Confidence\":0.77253634,\"Lexical\":\"hold a door open\",\"ITN\":\"hold a door open\",\"MaskedITN\":\"hold a door open\",\"Display\":\"hold a door open\"},{\"Confidence\":0.76106817,\"Lexical\":\"hold the door open and\",\"ITN\":\"hold the door open and\",\"MaskedITN\":\"hold the door open and\",\"Display\":\"hold the door open and\"},{\"Confidence\":0.73858476,\"Lexical\":\"hold the door opened\",\"ITN\":\"hold the door opened\",\"MaskedITN\":\"hold the door opened\",\"Display\":\"hold the door opened\"},{\"Confidence\":0.75531477,\"Lexical\":\"hold the door open now\",\"ITN\":\"hold the door open now\",\"MaskedITN\":\"hold the door open now\",\"Display\":\"hold the door open now\"}]}\n",
      "{\"Id\":\"a3e9f9e853884f199094293ff7652fff\",\"RecognitionStatus\":\"Success\",\"Offset\":11900000,\"Duration\":14500000,\"DisplayText\":\"Invite for a meeting.\",\"NBest\":[{\"Confidence\":0.8872299,\"Lexical\":\"invite for a meeting\",\"ITN\":\"invite for a meeting\",\"MaskedITN\":\"invite for a meeting\",\"Display\":\"Invite for a meeting.\"},{\"Confidence\":0.8404244,\"Lexical\":\"invite for uh meeting\",\"ITN\":\"invite for uh meeting\",\"MaskedITN\":\"invite for uh meeting\",\"Display\":\"invite for uh meeting\"},{\"Confidence\":0.7869273,\"Lexical\":\"invite four a meeting\",\"ITN\":\"invite four a meeting\",\"MaskedITN\":\"invite four a meeting\",\"Display\":\"invite four a meeting\"},{\"Confidence\":0.749371,\"Lexical\":\"invite forum eating\",\"ITN\":\"invite forum eating\",\"MaskedITN\":\"invite forum eating\",\"Display\":\"invite forum eating\"},{\"Confidence\":0.7516067,\"Lexical\":\"invite forum meeting\",\"ITN\":\"invite forum meeting\",\"MaskedITN\":\"invite forum meeting\",\"Display\":\"invite forum meeting\"}]}\n",
      "{\"Id\":\"a22415ae0baf447ca6888becd33022e0\",\"RecognitionStatus\":\"Success\",\"Offset\":8300000,\"Duration\":30300000,\"DisplayText\":\"Move the cup to the left of the bowel.\",\"NBest\":[{\"Confidence\":0.70300657,\"Lexical\":\"move the cup to the left of the bowel\",\"ITN\":\"move the cup to the left of the bowel\",\"MaskedITN\":\"move the cup to the left of the bowel\",\"Display\":\"Move the cup to the left of the bowel.\"},{\"Confidence\":0.72283417,\"Lexical\":\"move the cup to the left of the bowl\",\"ITN\":\"move the cup to the left of the bowl\",\"MaskedITN\":\"move the cup to the left of the bowl\",\"Display\":\"move the cup to the left of the bowl\"},{\"Confidence\":0.6839585,\"Lexical\":\"moved the cup to the left of the bowel\",\"ITN\":\"moved the cup to the left of the bowel\",\"MaskedITN\":\"moved the cup to the left of the bowel\",\"Display\":\"moved the cup to the left of the bowel\"},{\"Confidence\":0.7039135,\"Lexical\":\"moved the cup to the left of the bowl\",\"ITN\":\"moved the cup to the left of the bowl\",\"MaskedITN\":\"moved the cup to the left of the bowl\",\"Display\":\"moved the cup to the left of the bowl\"},{\"Confidence\":0.70484096,\"Lexical\":\"move the car up to the left of the bowel\",\"ITN\":\"move the car up to the left of the bowel\",\"MaskedITN\":\"move the car up to the left of the bowel\",\"Display\":\"move the car up to the left of the bowel\"}]}\n"
     ]
    },
    {
     "name": "stdout",
     "output_type": "stream",
     "text": [
      "{\"Id\":\"1c51d20ae1134006b49c05c91cfc95dd\",\"RecognitionStatus\":\"Success\",\"Offset\":7700000,\"Duration\":18900000,\"DisplayText\":\"Move the cup to the right.\",\"NBest\":[{\"Confidence\":0.7939561,\"Lexical\":\"move the cup to the right\",\"ITN\":\"move the cup to the right\",\"MaskedITN\":\"move the cup to the right\",\"Display\":\"Move the cup to the right.\"},{\"Confidence\":0.76075363,\"Lexical\":\"moved the cup to the right\",\"ITN\":\"moved the cup to the right\",\"MaskedITN\":\"moved the cup to the right\",\"Display\":\"moved the cup to the right\"},{\"Confidence\":0.8100551,\"Lexical\":\"i move the cup to the right\",\"ITN\":\"i move the cup to the right\",\"MaskedITN\":\"i move the cup to the right\",\"Display\":\"i move the cup to the right\"},{\"Confidence\":0.74534816,\"Lexical\":\"move the cup to the wright\",\"ITN\":\"move the cup to the wright\",\"MaskedITN\":\"move the cup to the wright\",\"Display\":\"move the cup to the wright\"},{\"Confidence\":0.79968023,\"Lexical\":\"i moved the cup to the right\",\"ITN\":\"i moved the cup to the right\",\"MaskedITN\":\"i moved the cup to the right\",\"Display\":\"i moved the cup to the right\"}]}\n",
      "{\"Id\":\"aa10129f2b0545e298f04e0c97117d45\",\"RecognitionStatus\":\"Success\",\"Offset\":4200000,\"Duration\":14300000,\"DisplayText\":\"Move to the left.\",\"NBest\":[{\"Confidence\":0.7902415,\"Lexical\":\"move to the left\",\"ITN\":\"move to the left\",\"MaskedITN\":\"move to the left\",\"Display\":\"Move to the left.\"},{\"Confidence\":0.7054635,\"Lexical\":\"moved to the left\",\"ITN\":\"moved to the left\",\"MaskedITN\":\"moved to the left\",\"Display\":\"moved to the left\"},{\"Confidence\":0.8123055,\"Lexical\":\"i move to the left\",\"ITN\":\"i move to the left\",\"MaskedITN\":\"i move to the left\",\"Display\":\"i move to the left\"},{\"Confidence\":0.77820724,\"Lexical\":\"move to the left eye\",\"ITN\":\"move to the left eye\",\"MaskedITN\":\"move to the left eye\",\"Display\":\"move to the left eye\"},{\"Confidence\":0.7789031,\"Lexical\":\"move to the left i\",\"ITN\":\"move to the left i\",\"MaskedITN\":\"move to the left i\",\"Display\":\"move to the left i\"}]}\n",
      "{\"Id\":\"09e31889be094adab7762b54d73dc2b0\",\"RecognitionStatus\":\"Success\",\"Offset\":14500000,\"Duration\":14100000,\"DisplayText\":\"Move to the right.\",\"NBest\":[{\"Confidence\":0.7102917,\"Lexical\":\"move to the right\",\"ITN\":\"move to the right\",\"MaskedITN\":\"move to the right\",\"Display\":\"Move to the right.\"},{\"Confidence\":0.63249296,\"Lexical\":\"moved to the right\",\"ITN\":\"moved to the right\",\"MaskedITN\":\"moved to the right\",\"Display\":\"moved to the right\"},{\"Confidence\":0.70085156,\"Lexical\":\"i move to the right\",\"ITN\":\"i move to the right\",\"MaskedITN\":\"i move to the right\",\"Display\":\"i move to the right\"},{\"Confidence\":0.5402374,\"Lexical\":\"move to the wright\",\"ITN\":\"move to the wright\",\"MaskedITN\":\"move to the wright\",\"Display\":\"move to the wright\"},{\"Confidence\":0.52395666,\"Lexical\":\"move to the rite\",\"ITN\":\"move to the rite\",\"MaskedITN\":\"move to the rite\",\"Display\":\"move to the rite\"}]}\n",
      "{\"Id\":\"308917b8fd4b46c082019c2bdb38563e\",\"RecognitionStatus\":\"Success\",\"Offset\":14700000,\"Duration\":14900000,\"DisplayText\":\"Navigate to place.\",\"NBest\":[{\"Confidence\":0.83072907,\"Lexical\":\"navigate to place\",\"ITN\":\"navigate to place\",\"MaskedITN\":\"navigate to place\",\"Display\":\"Navigate to place.\"},{\"Confidence\":0.7650447,\"Lexical\":\"navigate two place\",\"ITN\":\"navigate two place\",\"MaskedITN\":\"navigate two place\",\"Display\":\"navigate two place\"},{\"Confidence\":0.7111803,\"Lexical\":\"navigate to pl\",\"ITN\":\"navigate to pl\",\"MaskedITN\":\"navigate to pl\",\"Display\":\"navigate to PL\"},{\"Confidence\":0.68519944,\"Lexical\":\"navigate two pl\",\"ITN\":\"navigate two pl\",\"MaskedITN\":\"navigate two pl\",\"Display\":\"navigate two PL\"},{\"Confidence\":0.7256294,\"Lexical\":\"navigate too place\",\"ITN\":\"navigate too place\",\"MaskedITN\":\"navigate too place\",\"Display\":\"navigate too place\"}]}\n",
      "{\"Id\":\"d79cea3b73ec4daf8af451571f8e1d57\",\"RecognitionStatus\":\"Success\",\"Offset\":3500000,\"Duration\":20300000,\"DisplayText\":\"Nearest coffee shop.\",\"NBest\":[{\"Confidence\":0.75903344,\"Lexical\":\"nearest coffee shop\",\"ITN\":\"nearest coffee shop\",\"MaskedITN\":\"nearest coffee shop\",\"Display\":\"Nearest coffee shop.\"},{\"Confidence\":0.79298306,\"Lexical\":\"nearest coffeeshop\",\"ITN\":\"nearest coffeeshop\",\"MaskedITN\":\"nearest coffeeshop\",\"Display\":\"nearest coffeeshop\"},{\"Confidence\":0.7296823,\"Lexical\":\"nearest coffee shops\",\"ITN\":\"nearest coffee shops\",\"MaskedITN\":\"nearest coffee shops\",\"Display\":\"nearest coffee shops\"},{\"Confidence\":0.6789802,\"Lexical\":\"nearest coffee shoppe\",\"ITN\":\"nearest coffee shoppe\",\"MaskedITN\":\"nearest coffee shoppe\",\"Display\":\"nearest coffee shoppe\"},{\"Confidence\":0.6533362,\"Lexical\":\"nearest coffee shopp\",\"ITN\":\"nearest coffee shopp\",\"MaskedITN\":\"nearest coffee shopp\",\"Display\":\"nearest coffee shopp\"}]}\n",
      "{\"Id\":\"e88a15a60a2f4f9e8003c62997b9c368\",\"RecognitionStatus\":\"Success\",\"Offset\":9100000,\"Duration\":13900000,\"DisplayText\":\"Next slide.\",\"NBest\":[{\"Confidence\":0.87831014,\"Lexical\":\"next slide\",\"ITN\":\"next slide\",\"MaskedITN\":\"next slide\",\"Display\":\"Next slide.\"},{\"Confidence\":0.66429454,\"Lexical\":\"nxt slide\",\"ITN\":\"nxt slide\",\"MaskedITN\":\"nxt slide\",\"Display\":\"NXT slide\"},{\"Confidence\":0.859145,\"Lexical\":\"next slide i\",\"ITN\":\"next slide i\",\"MaskedITN\":\"next slide i\",\"Display\":\"next slide i\"},{\"Confidence\":0.83548903,\"Lexical\":\"next slide show\",\"ITN\":\"next slide show\",\"MaskedITN\":\"next slide show\",\"Display\":\"next slide show\"},{\"Confidence\":0.8373175,\"Lexical\":\"next slide in\",\"ITN\":\"next slide in\",\"MaskedITN\":\"next slide in\",\"Display\":\"next slide in\"}]}\n",
      "{\"Id\":\"6bf2417713a84debac8498c7ff64b4de\",\"RecognitionStatus\":\"Success\",\"Offset\":22100000,\"Duration\":18200000,\"DisplayText\":\"Open Control Center.\",\"NBest\":[{\"Confidence\":0.7030624,\"Lexical\":\"open control center\",\"ITN\":\"open control center\",\"MaskedITN\":\"open control center\",\"Display\":\"Open Control Center.\"},{\"Confidence\":0.6978873,\"Lexical\":\"open control centre\",\"ITN\":\"open control centre\",\"MaskedITN\":\"open control centre\",\"Display\":\"open control centre\"},{\"Confidence\":0.58113354,\"Lexical\":\"open control senter\",\"ITN\":\"open control senter\",\"MaskedITN\":\"open control senter\",\"Display\":\"open control senter\"},{\"Confidence\":0.59714645,\"Lexical\":\"open control center are\",\"ITN\":\"open control center are\",\"MaskedITN\":\"open control center are\",\"Display\":\"open control center are\"},{\"Confidence\":0.567834,\"Lexical\":\"open control centerr\",\"ITN\":\"open control centerr\",\"MaskedITN\":\"open control centerr\",\"Display\":\"open control centerr\"}]}\n",
      "{\"Id\":\"58afc4b8dccf4915b8f0e57806e12fda\",\"RecognitionStatus\":\"Success\",\"Offset\":13700000,\"Duration\":18500000,\"DisplayText\":\"Open privacy settings.\",\"NBest\":[{\"Confidence\":0.53181046,\"Lexical\":\"open privacy settings\",\"ITN\":\"open privacy settings\",\"MaskedITN\":\"open privacy settings\",\"Display\":\"Open privacy settings.\"},{\"Confidence\":0.44414154,\"Lexical\":\"open privacy setting 's\",\"ITN\":\"open privacy setting 's\",\"MaskedITN\":\"open privacy setting 's\",\"Display\":\"open privacy setting 's\"},{\"Confidence\":0.5148769,\"Lexical\":\"open privacy settings i\",\"ITN\":\"open privacy settings i\",\"MaskedITN\":\"open privacy settings i\",\"Display\":\"open privacy settings i\"},{\"Confidence\":0.5011042,\"Lexical\":\"open privacy settings on\",\"ITN\":\"open privacy settings on\",\"MaskedITN\":\"open privacy settings on\",\"Display\":\"open privacy settings on\"},{\"Confidence\":0.51216626,\"Lexical\":\"open privacy settings uh\",\"ITN\":\"open privacy settings uh\",\"MaskedITN\":\"open privacy settings uh\",\"Display\":\"open privacy settings uh\"}]}\n",
      "{\"Id\":\"227c9828c8ec46a1bb0db7c0000599af\",\"RecognitionStatus\":\"Success\",\"Offset\":16700000,\"Duration\":12100000,\"DisplayText\":\"Open the box.\",\"NBest\":[{\"Confidence\":0.74979657,\"Lexical\":\"open the box\",\"ITN\":\"open the box\",\"MaskedITN\":\"open the box\",\"Display\":\"Open the box.\"},{\"Confidence\":0.6052728,\"Lexical\":\"open the boxed\",\"ITN\":\"open the boxed\",\"MaskedITN\":\"open the boxed\",\"Display\":\"open the boxed\"},{\"Confidence\":0.6599779,\"Lexical\":\"open the boxes\",\"ITN\":\"open the boxes\",\"MaskedITN\":\"open the boxes\",\"Display\":\"open the boxes\"},{\"Confidence\":0.64760387,\"Lexical\":\"open in the box\",\"ITN\":\"open in the box\",\"MaskedITN\":\"open in the box\",\"Display\":\"open in the box\"},{\"Confidence\":0.7112247,\"Lexical\":\"open the box too\",\"ITN\":\"open the box too\",\"MaskedITN\":\"open the box too\",\"Display\":\"open the box too\"}]}\n",
      "{\"Id\":\"229a400a5d6b44fb959a908312754761\",\"RecognitionStatus\":\"Success\",\"Offset\":17600000,\"Duration\":13300000,\"DisplayText\":\"Open window.\",\"NBest\":[{\"Confidence\":0.744741,\"Lexical\":\"open window\",\"ITN\":\"open window\",\"MaskedITN\":\"open window\",\"Display\":\"Open window.\"},{\"Confidence\":0.63885796,\"Lexical\":\"open windows\",\"ITN\":\"open windows\",\"MaskedITN\":\"open windows\",\"Display\":\"open windows\"},{\"Confidence\":0.5246202,\"Lexical\":\"open wind oh\",\"ITN\":\"open wind oh\",\"MaskedITN\":\"open wind oh\",\"Display\":\"open wind oh\"},{\"Confidence\":0.5046132,\"Lexical\":\"open wind o\",\"ITN\":\"open wind o\",\"MaskedITN\":\"open wind o\",\"Display\":\"open wind O\"},{\"Confidence\":0.7126772,\"Lexical\":\"open window i\",\"ITN\":\"open window i\",\"MaskedITN\":\"open window i\",\"Display\":\"open window i\"}]}\n"
     ]
    },
    {
     "name": "stdout",
     "output_type": "stream",
     "text": [
      "{\"Id\":\"70755db4b7484d219bee9c780acadcca\",\"RecognitionStatus\":\"Success\",\"Offset\":13500000,\"Duration\":12500000,\"DisplayText\":\"Open YouTube.\",\"NBest\":[{\"Confidence\":0.7341009,\"Lexical\":\"open youtube\",\"ITN\":\"open youtube\",\"MaskedITN\":\"open youtube\",\"Display\":\"Open YouTube.\"},{\"Confidence\":0.6388221,\"Lexical\":\"open you tube\",\"ITN\":\"open you tube\",\"MaskedITN\":\"open you tube\",\"Display\":\"open you tube\"},{\"Confidence\":0.64900863,\"Lexical\":\"open in youtube\",\"ITN\":\"open in youtube\",\"MaskedITN\":\"open in youtube\",\"Display\":\"open in youtube\"},{\"Confidence\":0.6384326,\"Lexical\":\"i open youtube\",\"ITN\":\"i open youtube\",\"MaskedITN\":\"i open youtube\",\"Display\":\"i open youtube\"},{\"Confidence\":0.68830323,\"Lexical\":\"open youtube app\",\"ITN\":\"open youtube app\",\"MaskedITN\":\"open youtube app\",\"Display\":\"open youtube app\"}]}\n",
      "{\"Id\":\"3318124277ef4aa0bc4277cde7b49906\",\"RecognitionStatus\":\"Success\",\"Offset\":11100000,\"Duration\":44100000,\"DisplayText\":\"Pick up the bowl and place it in front of the cheese it box.\",\"NBest\":[{\"Confidence\":0.8134511,\"Lexical\":\"pick up the bowl and place it in front of the cheese it box\",\"ITN\":\"pick up the bowl and place it in front of the cheese it box\",\"MaskedITN\":\"pick up the bowl and place it in front of the cheese it box\",\"Display\":\"Pick up the bowl and place it in front of the cheese it box.\"},{\"Confidence\":0.8142778,\"Lexical\":\"pick up the bowl and place it in front of the cheez-it box\",\"ITN\":\"pick up the bowl and place it in front of the cheez-it box\",\"MaskedITN\":\"pick up the bowl and place it in front of the cheez-it box\",\"Display\":\"pick up the bowl and place it in front of the cheez-it box\"},{\"Confidence\":0.82528573,\"Lexical\":\"pick up the bowl and place it in front of the cheez it box\",\"ITN\":\"pick up the bowl and place it in front of the cheez it box\",\"MaskedITN\":\"pick up the bowl and place it in front of the cheez it box\",\"Display\":\"pick up the bowl and place it in front of the cheez it box\"},{\"Confidence\":0.83005947,\"Lexical\":\"pick up the bowl and place it in front of the cheese box\",\"ITN\":\"pick up the bowl and place it in front of the cheese box\",\"MaskedITN\":\"pick up the bowl and place it in front of the cheese box\",\"Display\":\"pick up the bowl and place it in front of the cheese box\"},{\"Confidence\":0.81252354,\"Lexical\":\"pick up the bowl and place it in front of the cheezit box\",\"ITN\":\"pick up the bowl and place it in front of the cheezit box\",\"MaskedITN\":\"pick up the bowl and place it in front of the cheezit box\",\"Display\":\"pick up the bowl and place it in front of the cheezit box\"}]}\n",
      "{\"Id\":\"b0bf42b5e6b342f8bacb37e6602381e0\",\"RecognitionStatus\":\"Success\",\"Offset\":9200000,\"Duration\":41500000,\"DisplayText\":\"Pick up the cup and place it on the top of the table.\",\"NBest\":[{\"Confidence\":0.9041242,\"Lexical\":\"pick up the cup and place it on the top of the table\",\"ITN\":\"pick up the cup and place it on the top of the table\",\"MaskedITN\":\"pick up the cup and place it on the top of the table\",\"Display\":\"Pick up the cup and place it on the top of the table.\"},{\"Confidence\":0.8744882,\"Lexical\":\"pickup the cup and place it on the top of the table\",\"ITN\":\"pickup the cup and place it on the top of the table\",\"MaskedITN\":\"pickup the cup and place it on the top of the table\",\"Display\":\"pickup the cup and place it on the top of the table\"},{\"Confidence\":0.8747492,\"Lexical\":\"pick up the car up and place it on the top of the table\",\"ITN\":\"pick up the car up and place it on the top of the table\",\"MaskedITN\":\"pick up the car up and place it on the top of the table\",\"Display\":\"pick up the car up and place it on the top of the table\"},{\"Confidence\":0.8743334,\"Lexical\":\"pick up the cap and place it on the top of the table\",\"ITN\":\"pick up the cap and place it on the top of the table\",\"MaskedITN\":\"pick up the cap and place it on the top of the table\",\"Display\":\"pick up the cap and place it on the top of the table\"},{\"Confidence\":0.86264014,\"Lexical\":\"pick up the cup up and place it on the top of the table\",\"ITN\":\"pick up the cup up and place it on the top of the table\",\"MaskedITN\":\"pick up the cup up and place it on the top of the table\",\"Display\":\"pick up the cup up and place it on the top of the table\"}]}\n",
      "{\"Id\":\"71a17630b72d4f7e845013da22ab6292\",\"RecognitionStatus\":\"Success\",\"Offset\":11800000,\"Duration\":13100000,\"DisplayText\":\"Pick up the spoon.\",\"NBest\":[{\"Confidence\":0.8955191,\"Lexical\":\"pick up the spoon\",\"ITN\":\"pick up the spoon\",\"MaskedITN\":\"pick up the spoon\",\"Display\":\"Pick up the spoon.\"},{\"Confidence\":0.85427487,\"Lexical\":\"pickup the spoon\",\"ITN\":\"pickup the spoon\",\"MaskedITN\":\"pickup the spoon\",\"Display\":\"pickup the spoon\"},{\"Confidence\":0.89264446,\"Lexical\":\"i pick up the spoon\",\"ITN\":\"i pick up the spoon\",\"MaskedITN\":\"i pick up the spoon\",\"Display\":\"i pick up the spoon\"},{\"Confidence\":0.807278,\"Lexical\":\"picked up the spoon\",\"ITN\":\"picked up the spoon\",\"MaskedITN\":\"picked up the spoon\",\"Display\":\"picked up the spoon\"},{\"Confidence\":0.81777436,\"Lexical\":\"pic up the spoon\",\"ITN\":\"pic up the spoon\",\"MaskedITN\":\"pic up the spoon\",\"Display\":\"pic up the spoon\"}]}\n",
      "{\"Id\":\"c6b982a4c7734b28b96cf3662fc74b29\",\"RecognitionStatus\":\"Success\",\"Offset\":8000000,\"Duration\":33300000,\"DisplayText\":\"Pick up the spoon and place it next to the bowl.\",\"NBest\":[{\"Confidence\":0.8963209,\"Lexical\":\"pick up the spoon and place it next to the bowl\",\"ITN\":\"pick up the spoon and place it next to the bowl\",\"MaskedITN\":\"pick up the spoon and place it next to the bowl\",\"Display\":\"Pick up the spoon and place it next to the bowl.\"},{\"Confidence\":0.874563,\"Lexical\":\"pickup the spoon and place it next to the bowl\",\"ITN\":\"pickup the spoon and place it next to the bowl\",\"MaskedITN\":\"pickup the spoon and place it next to the bowl\",\"Display\":\"pickup the spoon and place it next to the bowl\"},{\"Confidence\":0.8708759,\"Lexical\":\"pick up the spoon and place it next to the bowel\",\"ITN\":\"pick up the spoon and place it next to the bowel\",\"MaskedITN\":\"pick up the spoon and place it next to the bowel\",\"Display\":\"pick up the spoon and place it next to the bowel\"},{\"Confidence\":0.8601133,\"Lexical\":\"pick up the spoon and place it next to the boul\",\"ITN\":\"pick up the spoon and place it next to the boul\",\"MaskedITN\":\"pick up the spoon and place it next to the boul\",\"Display\":\"pick up the spoon and place it next to the boul\"},{\"Confidence\":0.85907763,\"Lexical\":\"pick up the spoon and place it next to the bol\",\"ITN\":\"pick up the spoon and place it next to the bol\",\"MaskedITN\":\"pick up the spoon and place it next to the bol\",\"Display\":\"pick up the spoon and place it next to the BOL\"}]}\n",
      "{\"Id\":\"6b628377483c4659be387bbe456e971f\",\"RecognitionStatus\":\"Success\",\"Offset\":8100000,\"Duration\":19800000,\"DisplayText\":\"Place the book in the drawer.\",\"NBest\":[{\"Confidence\":0.7872469,\"Lexical\":\"place the book in the drawer\",\"ITN\":\"place the book in the drawer\",\"MaskedITN\":\"place the book in the drawer\",\"Display\":\"Place the book in the drawer.\"},{\"Confidence\":0.77282387,\"Lexical\":\"place the books in the drawer\",\"ITN\":\"place the books in the drawer\",\"MaskedITN\":\"place the books in the drawer\",\"Display\":\"place the books in the drawer\"},{\"Confidence\":0.7740238,\"Lexical\":\"play 's the book in the drawer\",\"ITN\":\"play 's the book in the drawer\",\"MaskedITN\":\"play 's the book in the drawer\",\"Display\":\"play 's the book in the drawer\"},{\"Confidence\":0.7200379,\"Lexical\":\"place the book in the draw\",\"ITN\":\"place the book in the draw\",\"MaskedITN\":\"place the book in the draw\",\"Display\":\"place the book in the draw\"},{\"Confidence\":0.7190106,\"Lexical\":\"replace the book in the drawer\",\"ITN\":\"replace the book in the drawer\",\"MaskedITN\":\"replace the book in the drawer\",\"Display\":\"replace the book in the drawer\"}]}\n",
      "{\"Id\":\"e03c692744b14e25af554904a3de8f28\",\"RecognitionStatus\":\"Success\",\"Offset\":18000000,\"Duration\":20900000,\"DisplayText\":\"Place the book in the shelf.\",\"NBest\":[{\"Confidence\":0.6426653,\"Lexical\":\"place the book in the shelf\",\"ITN\":\"place the book in the shelf\",\"MaskedITN\":\"place the book in the shelf\",\"Display\":\"Place the book in the shelf.\"},{\"Confidence\":0.6053975,\"Lexical\":\"please the book in the shelf\",\"ITN\":\"please the book in the shelf\",\"MaskedITN\":\"please the book in the shelf\",\"Display\":\"please the book in the shelf\"},{\"Confidence\":0.6161046,\"Lexical\":\"placed the book in the shelf\",\"ITN\":\"placed the book in the shelf\",\"MaskedITN\":\"placed the book in the shelf\",\"Display\":\"placed the book in the shelf\"},{\"Confidence\":0.61802495,\"Lexical\":\"replace the book in the shelf\",\"ITN\":\"replace the book in the shelf\",\"MaskedITN\":\"replace the book in the shelf\",\"Display\":\"replace the book in the shelf\"},{\"Confidence\":0.5938583,\"Lexical\":\"place the books in the shelf\",\"ITN\":\"place the books in the shelf\",\"MaskedITN\":\"place the books in the shelf\",\"Display\":\"place the books in the shelf\"}]}\n"
     ]
    },
    {
     "name": "stdout",
     "output_type": "stream",
     "text": [
      "{\"Id\":\"0c8d2bb3cc154871aa002089b8f6f711\",\"RecognitionStatus\":\"Success\",\"Offset\":12700000,\"Duration\":22500000,\"DisplayText\":\"Place the bowl in front of me.\",\"NBest\":[{\"Confidence\":0.8557629,\"Lexical\":\"place the bowl in front of me\",\"ITN\":\"place the bowl in front of me\",\"MaskedITN\":\"place the bowl in front of me\",\"Display\":\"Place the bowl in front of me.\"},{\"Confidence\":0.8507717,\"Lexical\":\"place the ball in front of me\",\"ITN\":\"place the ball in front of me\",\"MaskedITN\":\"place the ball in front of me\",\"Display\":\"place the ball in front of me\"},{\"Confidence\":0.82898515,\"Lexical\":\"play 's the bowl in front of me\",\"ITN\":\"play 's the bowl in front of me\",\"MaskedITN\":\"play 's the bowl in front of me\",\"Display\":\"play 's the bowl in front of me\"},{\"Confidence\":0.80504036,\"Lexical\":\"place the bol in front of me\",\"ITN\":\"place the bol in front of me\",\"MaskedITN\":\"place the bol in front of me\",\"Display\":\"place the BOL in front of me\"},{\"Confidence\":0.7811732,\"Lexical\":\"replace the bowl in front of me\",\"ITN\":\"replace the bowl in front of me\",\"MaskedITN\":\"replace the bowl in front of me\",\"Display\":\"replace the bowl in front of me\"}]}\n",
      "{\"Id\":\"19531c7cc75046f5bf7d7336e7ff5dff\",\"RecognitionStatus\":\"Success\",\"Offset\":17800000,\"Duration\":24300000,\"DisplayText\":\"Place the dish in the dishwasher.\",\"NBest\":[{\"Confidence\":0.77387553,\"Lexical\":\"place the dish in the dishwasher\",\"ITN\":\"place the dish in the dishwasher\",\"MaskedITN\":\"place the dish in the dishwasher\",\"Display\":\"Place the dish in the dishwasher.\"},{\"Confidence\":0.73626024,\"Lexical\":\"please the dish in the dishwasher\",\"ITN\":\"please the dish in the dishwasher\",\"MaskedITN\":\"please the dish in the dishwasher\",\"Display\":\"please the dish in the dishwasher\"},{\"Confidence\":0.7236806,\"Lexical\":\"placed the dish in the dishwasher\",\"ITN\":\"placed the dish in the dishwasher\",\"MaskedITN\":\"placed the dish in the dishwasher\",\"Display\":\"placed the dish in the dishwasher\"},{\"Confidence\":0.71641207,\"Lexical\":\"replace the dish in the dishwasher\",\"ITN\":\"replace the dish in the dishwasher\",\"MaskedITN\":\"replace the dish in the dishwasher\",\"Display\":\"replace the dish in the dishwasher\"},{\"Confidence\":0.70554036,\"Lexical\":\"place that dish in the dishwasher\",\"ITN\":\"place that dish in the dishwasher\",\"MaskedITN\":\"place that dish in the dishwasher\",\"Display\":\"place that dish in the dishwasher\"}]}\n",
      "{\"Id\":\"b6fa65b848f549d6b70b1898612f9ac1\",\"RecognitionStatus\":\"Success\",\"Offset\":4700000,\"Duration\":24800000,\"DisplayText\":\"Place the dishes in the dish rack.\",\"NBest\":[{\"Confidence\":0.6603262,\"Lexical\":\"place the dishes in the dish rack\",\"ITN\":\"place the dishes in the dish rack\",\"MaskedITN\":\"place the dishes in the dish rack\",\"Display\":\"Place the dishes in the dish rack.\"},{\"Confidence\":0.662024,\"Lexical\":\"place the dishes in the dish track\",\"ITN\":\"place the dishes in the dish track\",\"MaskedITN\":\"place the dishes in the dish track\",\"Display\":\"place the dishes in the dish track\"},{\"Confidence\":0.6365856,\"Lexical\":\"please the dishes in the dish rack\",\"ITN\":\"please the dishes in the dish rack\",\"MaskedITN\":\"please the dishes in the dish rack\",\"Display\":\"please the dishes in the dish rack\"},{\"Confidence\":0.6382835,\"Lexical\":\"please the dishes in the dish track\",\"ITN\":\"please the dishes in the dish track\",\"MaskedITN\":\"please the dishes in the dish track\",\"Display\":\"please the dishes in the dish track\"},{\"Confidence\":0.63047904,\"Lexical\":\"police the dishes in the dish rack\",\"ITN\":\"police the dishes in the dish rack\",\"MaskedITN\":\"police the dishes in the dish rack\",\"Display\":\"police the dishes in the dish rack\"}]}\n",
      "{\"Id\":\"ca7a1d368bd749b687228bbc510b0bd4\",\"RecognitionStatus\":\"Success\",\"Offset\":15200000,\"Duration\":20300000,\"DisplayText\":\"Place the mug in the sink.\",\"NBest\":[{\"Confidence\":0.79147536,\"Lexical\":\"place the mug in the sink\",\"ITN\":\"place the mug in the sink\",\"MaskedITN\":\"place the mug in the sink\",\"Display\":\"Place the mug in the sink.\"},{\"Confidence\":0.7698602,\"Lexical\":\"place the mug in the sync\",\"ITN\":\"place the mug in the sync\",\"MaskedITN\":\"place the mug in the sync\",\"Display\":\"place the mug in the sync\"},{\"Confidence\":0.7809714,\"Lexical\":\"play 's the mug in the sink\",\"ITN\":\"play 's the mug in the sink\",\"MaskedITN\":\"play 's the mug in the sink\",\"Display\":\"play 's the mug in the sink\"},{\"Confidence\":0.76767755,\"Lexical\":\"place the mugs in the sink\",\"ITN\":\"place the mugs in the sink\",\"MaskedITN\":\"place the mugs in the sink\",\"Display\":\"place the mugs in the sink\"},{\"Confidence\":0.7671465,\"Lexical\":\"place them ugh in the sink\",\"ITN\":\"place them ugh in the sink\",\"MaskedITN\":\"place them ugh in the sink\",\"Display\":\"place them ugh in the sink\"}]}\n",
      "{\"Id\":\"a21cb00e09934163b982dfbccb816519\",\"RecognitionStatus\":\"Success\",\"Offset\":11800000,\"Duration\":22500000,\"DisplayText\":\"Place the plate on the table.\",\"NBest\":[{\"Confidence\":0.83460915,\"Lexical\":\"place the plate on the table\",\"ITN\":\"place the plate on the table\",\"MaskedITN\":\"place the plate on the table\",\"Display\":\"Place the plate on the table.\"},{\"Confidence\":0.77711236,\"Lexical\":\"replace the plate on the table\",\"ITN\":\"replace the plate on the table\",\"MaskedITN\":\"replace the plate on the table\",\"Display\":\"replace the plate on the table\"},{\"Confidence\":0.81151694,\"Lexical\":\"play 's the plate on the table\",\"ITN\":\"play 's the plate on the table\",\"MaskedITN\":\"play 's the plate on the table\",\"Display\":\"play 's the plate on the table\"},{\"Confidence\":0.82761645,\"Lexical\":\"place the plate on the table i\",\"ITN\":\"place the plate on the table i\",\"MaskedITN\":\"place the plate on the table i\",\"Display\":\"place the plate on the table i\"},{\"Confidence\":0.8163625,\"Lexical\":\"place the plate on the table now\",\"ITN\":\"place the plate on the table now\",\"MaskedITN\":\"place the plate on the table now\",\"Display\":\"place the plate on the table now\"}]}\n",
      "{\"Id\":\"a48d75d113344fd1acccb30fb80f10c8\",\"RecognitionStatus\":\"Success\",\"Offset\":11000000,\"Duration\":11100000,\"DisplayText\":\"Play a song.\",\"NBest\":[{\"Confidence\":0.636541,\"Lexical\":\"play a song\",\"ITN\":\"play a song\",\"MaskedITN\":\"play a song\",\"Display\":\"Play a song.\"},{\"Confidence\":0.53941953,\"Lexical\":\"play a songs\",\"ITN\":\"play a songs\",\"MaskedITN\":\"play a songs\",\"Display\":\"play a songs\"},{\"Confidence\":0.55296534,\"Lexical\":\"play uh song\",\"ITN\":\"play uh song\",\"MaskedITN\":\"play uh song\",\"Display\":\"play uh song\"},{\"Confidence\":0.53249,\"Lexical\":\"play a song\",\"ITN\":\"play a song\",\"MaskedITN\":\"play a song\",\"Display\":\"play A song\"},{\"Confidence\":0.45211738,\"Lexical\":\"play us song\",\"ITN\":\"play us song\",\"MaskedITN\":\"play us song\",\"Display\":\"play us song\"}]}\n",
      "{\"Id\":\"0063a87c9ccb493892e954ce3391e2f3\",\"RecognitionStatus\":\"Success\",\"Offset\":10500000,\"Duration\":24800000,\"DisplayText\":\"Pour some cereal into the bowl.\",\"NBest\":[{\"Confidence\":0.62679625,\"Lexical\":\"pour some cereal into the bowl\",\"ITN\":\"pour some cereal into the bowl\",\"MaskedITN\":\"pour some cereal into the bowl\",\"Display\":\"Pour some cereal into the bowl.\"},{\"Confidence\":0.60880506,\"Lexical\":\"pull some cereal into the bowl\",\"ITN\":\"pull some cereal into the bowl\",\"MaskedITN\":\"pull some cereal into the bowl\",\"Display\":\"pull some cereal into the bowl\"},{\"Confidence\":0.59868884,\"Lexical\":\"poor some cereal into the bowl\",\"ITN\":\"poor some cereal into the bowl\",\"MaskedITN\":\"poor some cereal into the bowl\",\"Display\":\"poor some cereal into the bowl\"},{\"Confidence\":0.60781395,\"Lexical\":\"pours some cereal into the bowl\",\"ITN\":\"pours some cereal into the bowl\",\"MaskedITN\":\"pours some cereal into the bowl\",\"Display\":\"pours some cereal into the bowl\"},{\"Confidence\":0.60102934,\"Lexical\":\"por some cereal into the bowl\",\"ITN\":\"por some cereal into the bowl\",\"MaskedITN\":\"por some cereal into the bowl\",\"Display\":\"por some cereal into the bowl\"}]}\n",
      "{\"Id\":\"9ae46572274548998dbf514ee881d039\",\"RecognitionStatus\":\"Success\",\"Offset\":8700000,\"Duration\":22000000,\"DisplayText\":\"Pour some juice into the cup.\",\"NBest\":[{\"Confidence\":0.7171785,\"Lexical\":\"pour some juice into the cup\",\"ITN\":\"pour some juice into the cup\",\"MaskedITN\":\"pour some juice into the cup\",\"Display\":\"Pour some juice into the cup.\"},{\"Confidence\":0.66939515,\"Lexical\":\"port some juice into the cup\",\"ITN\":\"port some juice into the cup\",\"MaskedITN\":\"port some juice into the cup\",\"Display\":\"port some juice into the cup\"},{\"Confidence\":0.71313137,\"Lexical\":\"poured some juice into the cup\",\"ITN\":\"poured some juice into the cup\",\"MaskedITN\":\"poured some juice into the cup\",\"Display\":\"poured some juice into the cup\"},{\"Confidence\":0.70269877,\"Lexical\":\"pours some juice into the cup\",\"ITN\":\"pours some juice into the cup\",\"MaskedITN\":\"pours some juice into the cup\",\"Display\":\"pours some juice into the cup\"},{\"Confidence\":0.66801214,\"Lexical\":\"post some juice into the cup\",\"ITN\":\"post some juice into the cup\",\"MaskedITN\":\"post some juice into the cup\",\"Display\":\"post some juice into the cup\"}]}\n"
     ]
    },
    {
     "name": "stdout",
     "output_type": "stream",
     "text": [
      "{\"Id\":\"8b566ad562cd4656a8d8a883e9d08cf2\",\"RecognitionStatus\":\"Success\",\"Offset\":11300000,\"Duration\":20600000,\"DisplayText\":\"Pour some water into the cup.\",\"NBest\":[{\"Confidence\":0.8039437,\"Lexical\":\"pour some water into the cup\",\"ITN\":\"pour some water into the cup\",\"MaskedITN\":\"pour some water into the cup\",\"Display\":\"Pour some water into the cup.\"},{\"Confidence\":0.7474128,\"Lexical\":\"pull some water into the cup\",\"ITN\":\"pull some water into the cup\",\"MaskedITN\":\"pull some water into the cup\",\"Display\":\"pull some water into the cup\"},{\"Confidence\":0.75384647,\"Lexical\":\"pour some water in to the cup\",\"ITN\":\"pour some water in to the cup\",\"MaskedITN\":\"pour some water in to the cup\",\"Display\":\"pour some water in to the cup\"},{\"Confidence\":0.75224245,\"Lexical\":\"pour some water into the cupp\",\"ITN\":\"pour some water into the cupp\",\"MaskedITN\":\"pour some water into the cupp\",\"Display\":\"pour some water into the cupp\"},{\"Confidence\":0.73402524,\"Lexical\":\"poor some water into the cup\",\"ITN\":\"poor some water into the cup\",\"MaskedITN\":\"poor some water into the cup\",\"Display\":\"poor some water into the cup\"}]}\n",
      "{\"Id\":\"29159b0c73b24cd9885a66cdee61aff0\",\"RecognitionStatus\":\"Success\",\"Offset\":22100000,\"Duration\":14500000,\"DisplayText\":\"Print document.\",\"NBest\":[{\"Confidence\":0.88447535,\"Lexical\":\"print document\",\"ITN\":\"print document\",\"MaskedITN\":\"print document\",\"Display\":\"Print document.\"},{\"Confidence\":0.84013975,\"Lexical\":\"print documents\",\"ITN\":\"print documents\",\"MaskedITN\":\"print documents\",\"Display\":\"print documents\"},{\"Confidence\":0.8344816,\"Lexical\":\"i print document\",\"ITN\":\"i print document\",\"MaskedITN\":\"i print document\",\"Display\":\"i print document\"},{\"Confidence\":0.79102707,\"Lexical\":\"sprint document\",\"ITN\":\"sprint document\",\"MaskedITN\":\"sprint document\",\"Display\":\"sprint document\"},{\"Confidence\":0.8112855,\"Lexical\":\"print document it\",\"ITN\":\"print document it\",\"MaskedITN\":\"print document it\",\"Display\":\"print document it\"}]}\n",
      "{\"Id\":\"20c74c56e19544c986f39cb75c569b81\",\"RecognitionStatus\":\"Success\",\"Offset\":5200000,\"Duration\":22000000,\"DisplayText\":\"Remind me to go to party.\",\"NBest\":[{\"Confidence\":0.83444905,\"Lexical\":\"remind me to go to party\",\"ITN\":\"remind me to go to party\",\"MaskedITN\":\"remind me to go to party\",\"Display\":\"Remind me to go to party.\"},{\"Confidence\":0.7506443,\"Lexical\":\"remind me to go to parties\",\"ITN\":\"remind me to go to parties\",\"MaskedITN\":\"remind me to go to parties\",\"Display\":\"remind me to go to parties\"},{\"Confidence\":0.75461566,\"Lexical\":\"remind me to go to potty\",\"ITN\":\"remind me to go to potty\",\"MaskedITN\":\"remind me to go to potty\",\"Display\":\"remind me to go to potty\"},{\"Confidence\":0.7457537,\"Lexical\":\"remind me to go to patty\",\"ITN\":\"remind me to go to patty\",\"MaskedITN\":\"remind me to go to patty\",\"Display\":\"remind me to go to patty\"},{\"Confidence\":0.7357243,\"Lexical\":\"remind me to go to parti\",\"ITN\":\"remind me to go to parti\",\"MaskedITN\":\"remind me to go to parti\",\"Display\":\"remind me to go to parti\"}]}\n",
      "{\"Id\":\"4967b635d5ef45f58bb88d6337494eef\",\"RecognitionStatus\":\"Success\",\"Offset\":8100000,\"Duration\":15600000,\"DisplayText\":\"Restart computer.\",\"NBest\":[{\"Confidence\":0.77834505,\"Lexical\":\"restart computer\",\"ITN\":\"restart computer\",\"MaskedITN\":\"restart computer\",\"Display\":\"Restart computer.\"},{\"Confidence\":0.6804869,\"Lexical\":\"we start computer\",\"ITN\":\"we start computer\",\"MaskedITN\":\"we start computer\",\"Display\":\"we start computer\"},{\"Confidence\":0.60159373,\"Lexical\":\"restart komputer\",\"ITN\":\"restart komputer\",\"MaskedITN\":\"restart komputer\",\"Display\":\"restart komputer\"},{\"Confidence\":0.7162523,\"Lexical\":\"restart computer now\",\"ITN\":\"restart computer now\",\"MaskedITN\":\"restart computer now\",\"Display\":\"restart computer now\"},{\"Confidence\":0.507724,\"Lexical\":\"restart computer are\",\"ITN\":\"restart computer are\",\"MaskedITN\":\"restart computer are\",\"Display\":\"restart computer are\"}]}\n",
      "{\"Id\":\"d0d251464312449c8626a182b6f4ffba\",\"RecognitionStatus\":\"Success\",\"Offset\":5800000,\"Duration\":19900000,\"DisplayText\":\"Search on Google.\",\"NBest\":[{\"Confidence\":0.65159863,\"Lexical\":\"search on google\",\"ITN\":\"search on google\",\"MaskedITN\":\"search on google\",\"Display\":\"Search on Google.\"},{\"Confidence\":0.5788628,\"Lexical\":\"serge on google\",\"ITN\":\"serge on google\",\"MaskedITN\":\"serge on google\",\"Display\":\"serge on google\"},{\"Confidence\":0.5774635,\"Lexical\":\"search on google it\",\"ITN\":\"search on google it\",\"MaskedITN\":\"search on google it\",\"Display\":\"search on google it\"},{\"Confidence\":0.53595763,\"Lexical\":\"surge on google\",\"ITN\":\"surge on google\",\"MaskedITN\":\"surge on google\",\"Display\":\"surge on google\"},{\"Confidence\":0.5562459,\"Lexical\":\"search on google earth\",\"ITN\":\"search on google earth\",\"MaskedITN\":\"search on google earth\",\"Display\":\"search on google earth\"}]}\n",
      "{\"Id\":\"253bdb5d140d47389777cbd66b71c24d\",\"RecognitionStatus\":\"Success\",\"Offset\":12400000,\"Duration\":15100000,\"DisplayText\":\"Send an email.\",\"NBest\":[{\"Confidence\":0.8713462,\"Lexical\":\"send an email\",\"ITN\":\"send an email\",\"MaskedITN\":\"send an email\",\"Display\":\"Send an email.\"},{\"Confidence\":0.793264,\"Lexical\":\"send an e mail\",\"ITN\":\"send an e mail\",\"MaskedITN\":\"send an e mail\",\"Display\":\"send an E mail\"},{\"Confidence\":0.8311473,\"Lexical\":\"i send an email\",\"ITN\":\"i send an email\",\"MaskedITN\":\"i send an email\",\"Display\":\"i send an email\"},{\"Confidence\":0.85316515,\"Lexical\":\"send an email to\",\"ITN\":\"send an email to\",\"MaskedITN\":\"send an email to\",\"Display\":\"send an email to\"},{\"Confidence\":0.8376298,\"Lexical\":\"send an email out\",\"ITN\":\"send an email out\",\"MaskedITN\":\"send an email out\",\"Display\":\"send an email out\"}]}\n",
      "{\"Id\":\"d40ef97e0bc146dfa9a9652bd52e2141\",\"RecognitionStatus\":\"Success\",\"Offset\":4200000,\"Duration\":15300000,\"DisplayText\":\"Set an alarm.\",\"NBest\":[{\"Confidence\":0.7147735,\"Lexical\":\"set an alarm\",\"ITN\":\"set an alarm\",\"MaskedITN\":\"set an alarm\",\"Display\":\"Set an alarm.\"},{\"Confidence\":0.6523587,\"Lexical\":\"set and alarm\",\"ITN\":\"set and alarm\",\"MaskedITN\":\"set and alarm\",\"Display\":\"set and alarm\"},{\"Confidence\":0.79450387,\"Lexical\":\"set alarm\",\"ITN\":\"set alarm\",\"MaskedITN\":\"set alarm\",\"Display\":\"set alarm\"},{\"Confidence\":0.65621966,\"Lexical\":\"set an allarme\",\"ITN\":\"set an allarme\",\"MaskedITN\":\"set an allarme\",\"Display\":\"set an allarme\"},{\"Confidence\":0.6557003,\"Lexical\":\"set an alarm for\",\"ITN\":\"set an alarm for\",\"MaskedITN\":\"set an alarm for\",\"Display\":\"set an alarm for\"}]}\n",
      "{\"Id\":\"864596283a1c4167a3635cd4e8fe0f77\",\"RecognitionStatus\":\"Success\",\"Offset\":3100000,\"Duration\":14200000,\"DisplayText\":\"Set out.\",\"NBest\":[{\"Confidence\":0.582561,\"Lexical\":\"set out\",\"ITN\":\"set out\",\"MaskedITN\":\"set out\",\"Display\":\"Set out.\"},{\"Confidence\":0.4988382,\"Lexical\":\"sat out\",\"ITN\":\"sat out\",\"MaskedITN\":\"sat out\",\"Display\":\"sat out\"},{\"Confidence\":0.50780857,\"Lexical\":\"sent out\",\"ITN\":\"sent out\",\"MaskedITN\":\"sent out\",\"Display\":\"sent out\"},{\"Confidence\":0.4857219,\"Lexical\":\"send it out\",\"ITN\":\"send it out\",\"MaskedITN\":\"send it out\",\"Display\":\"send it out\"},{\"Confidence\":0.45360386,\"Lexical\":\"set it out\",\"ITN\":\"set it out\",\"MaskedITN\":\"set it out\",\"Display\":\"set it out\"}]}\n",
      "{\"Id\":\"91391adedc434b56b75d3afa9a4499af\",\"RecognitionStatus\":\"Success\",\"Offset\":7300000,\"Duration\":13200000,\"DisplayText\":\"Show confirmation.\",\"NBest\":[{\"Confidence\":0.8113422,\"Lexical\":\"show confirmation\",\"ITN\":\"show confirmation\",\"MaskedITN\":\"show confirmation\",\"Display\":\"Show confirmation.\"},{\"Confidence\":0.7024167,\"Lexical\":\"shogun information\",\"ITN\":\"shogun information\",\"MaskedITN\":\"shogun information\",\"Display\":\"shogun information\"},{\"Confidence\":0.64257294,\"Lexical\":\"shogun formation\",\"ITN\":\"shogun formation\",\"MaskedITN\":\"shogun formation\",\"Display\":\"shogun formation\"},{\"Confidence\":0.6484181,\"Lexical\":\"show gun formation\",\"ITN\":\"show gun formation\",\"MaskedITN\":\"show gun formation\",\"Display\":\"show gun formation\"},{\"Confidence\":0.52743804,\"Lexical\":\"shogun for may shun\",\"ITN\":\"shogun for may shun\",\"MaskedITN\":\"shogun for may shun\",\"Display\":\"shogun for may shun\"}]}\n",
      "{\"Id\":\"78f7df74f5184a398b0459ec43038111\",\"RecognitionStatus\":\"Success\",\"Offset\":6300000,\"Duration\":12000000,\"DisplayText\":\"Show hints.\",\"NBest\":[{\"Confidence\":0.6854611,\"Lexical\":\"show hints\",\"ITN\":\"show hints\",\"MaskedITN\":\"show hints\",\"Display\":\"Show hints.\"},{\"Confidence\":0.55111897,\"Lexical\":\"show hintz\",\"ITN\":\"show hintz\",\"MaskedITN\":\"show hintz\",\"Display\":\"show hintz\"},{\"Confidence\":0.57485956,\"Lexical\":\"sho hints\",\"ITN\":\"sho hints\",\"MaskedITN\":\"sho hints\",\"Display\":\"sho hints\"},{\"Confidence\":0.57847923,\"Lexical\":\"show hits\",\"ITN\":\"show hits\",\"MaskedITN\":\"show hits\",\"Display\":\"show hits\"},{\"Confidence\":0.48149946,\"Lexical\":\"joe hints\",\"ITN\":\"joe hints\",\"MaskedITN\":\"joe hints\",\"Display\":\"joe hints\"}]}\n"
     ]
    },
    {
     "name": "stdout",
     "output_type": "stream",
     "text": [
      "{\"Id\":\"2312f9a2ca7a4ca3a1b6211f36ec4b06\",\"RecognitionStatus\":\"Success\",\"Offset\":6800000,\"Duration\":16100000,\"DisplayText\":\"Show my search history.\",\"NBest\":[{\"Confidence\":0.68855613,\"Lexical\":\"show my search history\",\"ITN\":\"show my search history\",\"MaskedITN\":\"show my search history\",\"Display\":\"Show my search history.\"},{\"Confidence\":0.7220551,\"Lexical\":\"show me my search history\",\"ITN\":\"show me my search history\",\"MaskedITN\":\"show me my search history\",\"Display\":\"show me my search history\"},{\"Confidence\":0.6738009,\"Lexical\":\"show my search history i\",\"ITN\":\"show my search history i\",\"MaskedITN\":\"show my search history i\",\"Display\":\"show my search history i\"},{\"Confidence\":0.65914226,\"Lexical\":\"show my search history is\",\"ITN\":\"show my search history is\",\"MaskedITN\":\"show my search history is\",\"Display\":\"show my search history is\"},{\"Confidence\":0.6533692,\"Lexical\":\"show my search history now\",\"ITN\":\"show my search history now\",\"MaskedITN\":\"show my search history now\",\"Display\":\"show my search history now\"}]}\n",
      "{\"Id\":\"fe4e47f78b3b4a7eb1ccc9b5c0b1f2f8\",\"RecognitionStatus\":\"Success\",\"Offset\":9800000,\"Duration\":15700000,\"DisplayText\":\"Shut down the system.\",\"NBest\":[{\"Confidence\":0.9229648,\"Lexical\":\"shut down the system\",\"ITN\":\"shut down the system\",\"MaskedITN\":\"shut down the system\",\"Display\":\"Shut down the system.\"},{\"Confidence\":0.87456626,\"Lexical\":\"shutdown the system\",\"ITN\":\"shutdown the system\",\"MaskedITN\":\"shutdown the system\",\"Display\":\"shutdown the system\"},{\"Confidence\":0.8976426,\"Lexical\":\"i shut down the system\",\"ITN\":\"i shut down the system\",\"MaskedITN\":\"i shut down the system\",\"Display\":\"i shut down the system\"},{\"Confidence\":0.90933484,\"Lexical\":\"shut down the system i\",\"ITN\":\"shut down the system i\",\"MaskedITN\":\"shut down the system i\",\"Display\":\"shut down the system i\"},{\"Confidence\":0.908033,\"Lexical\":\"shut down the system 's\",\"ITN\":\"shut down the system 's\",\"MaskedITN\":\"shut down the system 's\",\"Display\":\"shut down the system 's\"}]}\n",
      "{\"Id\":\"ee830bfa3b21491da9c9f331cc7ae5a7\",\"RecognitionStatus\":\"Success\",\"Offset\":9600000,\"Duration\":11700000,\"DisplayText\":\"Take screenshot.\",\"NBest\":[{\"Confidence\":0.7466503,\"Lexical\":\"take screenshot\",\"ITN\":\"take screenshot\",\"MaskedITN\":\"take screenshot\",\"Display\":\"Take screenshot.\"},{\"Confidence\":0.66073716,\"Lexical\":\"take screen shot\",\"ITN\":\"take screen shot\",\"MaskedITN\":\"take screen shot\",\"Display\":\"take screen shot\"},{\"Confidence\":0.6756535,\"Lexical\":\"takes screenshot\",\"ITN\":\"takes screenshot\",\"MaskedITN\":\"takes screenshot\",\"Display\":\"takes screenshot\"},{\"Confidence\":0.7356929,\"Lexical\":\"i take screenshot\",\"ITN\":\"i take screenshot\",\"MaskedITN\":\"i take screenshot\",\"Display\":\"i take screenshot\"},{\"Confidence\":0.71422654,\"Lexical\":\"take screenshots\",\"ITN\":\"take screenshots\",\"MaskedITN\":\"take screenshots\",\"Display\":\"take screenshots\"}]}\n",
      "{\"Id\":\"662f24b658284738a6b749d01ce9b730\",\"RecognitionStatus\":\"Success\",\"Offset\":9300000,\"Duration\":12500000,\"DisplayText\":\"Tell me a joke.\",\"NBest\":[{\"Confidence\":0.9112312,\"Lexical\":\"tell me a joke\",\"ITN\":\"tell me a joke\",\"MaskedITN\":\"tell me a joke\",\"Display\":\"Tell me a joke.\"},{\"Confidence\":0.8550238,\"Lexical\":\"tell me a jok\",\"ITN\":\"tell me a jok\",\"MaskedITN\":\"tell me a jok\",\"Display\":\"tell me a jok\"},{\"Confidence\":0.7652726,\"Lexical\":\"tell me a joke joke\",\"ITN\":\"tell me a joke joke\",\"MaskedITN\":\"tell me a joke joke\",\"Display\":\"tell me a joke joke\"},{\"Confidence\":0.7884968,\"Lexical\":\"tell me a jokes\",\"ITN\":\"tell me a jokes\",\"MaskedITN\":\"tell me a jokes\",\"Display\":\"tell me a jokes\"},{\"Confidence\":0.89269054,\"Lexical\":\"tell me a joke a\",\"ITN\":\"tell me a joke a\",\"MaskedITN\":\"tell me a joke a\",\"Display\":\"tell me a joke a\"}]}\n",
      "{\"Id\":\"21a185d20be4473f95158478a7fb54fa\",\"RecognitionStatus\":\"Success\",\"Offset\":6700000,\"Duration\":23500000,\"DisplayText\":\"Through the apple into the trash can.\",\"NBest\":[{\"Confidence\":0.7376356,\"Lexical\":\"through the apple into the trash can\",\"ITN\":\"through the apple into the trash can\",\"MaskedITN\":\"through the apple into the trash can\",\"Display\":\"Through the apple into the trash can.\"},{\"Confidence\":0.7293311,\"Lexical\":\"threw the apple into the trash can\",\"ITN\":\"threw the apple into the trash can\",\"MaskedITN\":\"threw the apple into the trash can\",\"Display\":\"threw the apple into the trash can\"},{\"Confidence\":0.7149087,\"Lexical\":\"throw the apple into the trash can\",\"ITN\":\"throw the apple into the trash can\",\"MaskedITN\":\"throw the apple into the trash can\",\"Display\":\"throw the apple into the trash can\"},{\"Confidence\":0.7018036,\"Lexical\":\"true the apple into the trash can\",\"ITN\":\"true the apple into the trash can\",\"MaskedITN\":\"true the apple into the trash can\",\"Display\":\"true the apple into the trash can\"},{\"Confidence\":0.72080296,\"Lexical\":\"thru the apple into the trash can\",\"ITN\":\"thru the apple into the trash can\",\"MaskedITN\":\"thru the apple into the trash can\",\"Display\":\"thru the apple into the trash can\"}]}\n",
      "{\"Id\":\"2f91bdbb43334c098f360b5415265a73\",\"RecognitionStatus\":\"Success\",\"Offset\":12100000,\"Duration\":12900000,\"DisplayText\":\"Turn off the switch.\",\"NBest\":[{\"Confidence\":0.79574454,\"Lexical\":\"turn off the switch\",\"ITN\":\"turn off the switch\",\"MaskedITN\":\"turn off the switch\",\"Display\":\"Turn off the switch.\"},{\"Confidence\":0.72981524,\"Lexical\":\"turn off the switch off\",\"ITN\":\"turn off the switch off\",\"MaskedITN\":\"turn off the switch off\",\"Display\":\"turn off the switch off\"},{\"Confidence\":0.7301868,\"Lexical\":\"turn off the switch on\",\"ITN\":\"turn off the switch on\",\"MaskedITN\":\"turn off the switch on\",\"Display\":\"turn off the switch on\"},{\"Confidence\":0.75976235,\"Lexical\":\"turn off the switch i\",\"ITN\":\"turn off the switch i\",\"MaskedITN\":\"turn off the switch i\",\"Display\":\"turn off the switch i\"},{\"Confidence\":0.72973126,\"Lexical\":\"turn off the switch it\",\"ITN\":\"turn off the switch it\",\"MaskedITN\":\"turn off the switch it\",\"Display\":\"turn off the switch it\"}]}\n",
      "{\"Id\":\"07c73aca37f245b2bfcb9380345acd89\",\"RecognitionStatus\":\"Success\",\"Offset\":9100000,\"Duration\":18700000,\"DisplayText\":\"Turn off voice control.\",\"NBest\":[{\"Confidence\":0.8485383,\"Lexical\":\"turn off voice control\",\"ITN\":\"turn off voice control\",\"MaskedITN\":\"turn off voice control\",\"Display\":\"Turn off voice control.\"},{\"Confidence\":0.7313826,\"Lexical\":\"turn off voice controle\",\"ITN\":\"turn off voice controle\",\"MaskedITN\":\"turn off voice controle\",\"Display\":\"turn off voice controle\"},{\"Confidence\":0.79113084,\"Lexical\":\"turn off the voice control\",\"ITN\":\"turn off the voice control\",\"MaskedITN\":\"turn off the voice control\",\"Display\":\"turn off the voice control\"},{\"Confidence\":0.73733366,\"Lexical\":\"turn off voice controll\",\"ITN\":\"turn off voice controll\",\"MaskedITN\":\"turn off voice controll\",\"Display\":\"turn off voice controll\"},{\"Confidence\":0.8193682,\"Lexical\":\"turn off voice control it\",\"ITN\":\"turn off voice control it\",\"MaskedITN\":\"turn off voice control it\",\"Display\":\"turn off voice control it\"}]}\n",
      "{\"Id\":\"6ea0cedb943247c5a9531520e94ac0ff\",\"RecognitionStatus\":\"Success\",\"Offset\":10500000,\"Duration\":17300000,\"DisplayText\":\"Turn on the switch.\",\"NBest\":[{\"Confidence\":0.49403384,\"Lexical\":\"turn on the switch\",\"ITN\":\"turn on the switch\",\"MaskedITN\":\"turn on the switch\",\"Display\":\"Turn on the switch.\"},{\"Confidence\":0.39140162,\"Lexical\":\"turn on the speech\",\"ITN\":\"turn on the speech\",\"MaskedITN\":\"turn on the speech\",\"Display\":\"turn on the speech\"},{\"Confidence\":0.3016038,\"Lexical\":\"turn on the switch witch\",\"ITN\":\"turn on the switch witch\",\"MaskedITN\":\"turn on the switch witch\",\"Display\":\"turn on the switch witch\"},{\"Confidence\":0.3095076,\"Lexical\":\"turn on the switch which\",\"ITN\":\"turn on the switch which\",\"MaskedITN\":\"turn on the switch which\",\"Display\":\"turn on the switch which\"},{\"Confidence\":0.44867226,\"Lexical\":\"turn on the switch e\",\"ITN\":\"turn on the switch e\",\"MaskedITN\":\"turn on the switch e\",\"Display\":\"turn on the switch E\"}]}\n",
      "{\"Id\":\"78d5ecbf6dee402db1ef23e572628e14\",\"RecognitionStatus\":\"Success\",\"Offset\":10500000,\"Duration\":15700000,\"DisplayText\":\"Turn up volume.\",\"NBest\":[{\"Confidence\":0.6276351,\"Lexical\":\"turn up volume\",\"ITN\":\"turn up volume\",\"MaskedITN\":\"turn up volume\",\"Display\":\"Turn up volume.\"},{\"Confidence\":0.481644,\"Lexical\":\"turn up volum\",\"ITN\":\"turn up volum\",\"MaskedITN\":\"turn up volum\",\"Display\":\"turn up volum\"},{\"Confidence\":0.44613868,\"Lexical\":\"don't know volume\",\"ITN\":\"don't know volume\",\"MaskedITN\":\"don't know volume\",\"Display\":\"don't know volume\"},{\"Confidence\":0.5746792,\"Lexical\":\"turn up volume up\",\"ITN\":\"turn up volume up\",\"MaskedITN\":\"turn up volume up\",\"Display\":\"turn up volume up\"},{\"Confidence\":0.5134152,\"Lexical\":\"turn up volume two\",\"ITN\":\"turn up volume two\",\"MaskedITN\":\"turn up volume two\",\"Display\":\"turn up volume two\"}]}\n"
     ]
    },
    {
     "name": "stdout",
     "output_type": "stream",
     "text": [
      "{\"Id\":\"bf1911d9e5534a0eb1bbd419666742b7\",\"RecognitionStatus\":\"Success\",\"Offset\":6100000,\"Duration\":15100000,\"DisplayText\":\"Watch Titanic.\",\"NBest\":[{\"Confidence\":0.701081,\"Lexical\":\"watch titanic\",\"ITN\":\"watch titanic\",\"MaskedITN\":\"watch titanic\",\"Display\":\"Watch Titanic.\"},{\"Confidence\":0.6536449,\"Lexical\":\"i watch titanic\",\"ITN\":\"i watch titanic\",\"MaskedITN\":\"i watch titanic\",\"Display\":\"i watch titanic\"},{\"Confidence\":0.5355033,\"Lexical\":\"watch thai tanic\",\"ITN\":\"watch thai tanic\",\"MaskedITN\":\"watch thai tanic\",\"Display\":\"watch thai tanic\"},{\"Confidence\":0.6764994,\"Lexical\":\"watch titanic 's\",\"ITN\":\"watch titanic 's\",\"MaskedITN\":\"watch titanic 's\",\"Display\":\"watch titanic 's\"},{\"Confidence\":0.67463434,\"Lexical\":\"watch titanic oh\",\"ITN\":\"watch titanic oh\",\"MaskedITN\":\"watch titanic oh\",\"Display\":\"watch titanic oh\"}]}\n"
     ]
    }
   ],
   "source": [
    "cwd = os.getcwd()\n",
    "TotalDict = {}\n",
    "for user in os.listdir(): # list of users\n",
    "  userDict = {}\n",
    "  if user.__contains__(\"7b05cf2e-65bc-47d2-a186-85ef1df0ad99\"):\n",
    "    for command in glob.glob(os.path.join(cwd,user, \"*/\")):\n",
    "      if(os.path.isdir(command)):\n",
    "        commandList = []\n",
    "        for file in glob.glob(os.path.join(cwd,command,\"*.wav\")):\n",
    "          audioRecognizer(file,commandList)\n",
    "      userDict[command] = commandList\n",
    "    TotalDict[user] = userDict"
   ]
  },
  {
   "cell_type": "code",
   "execution_count": 15,
   "metadata": {
    "colab": {
     "base_uri": "https://localhost:8080/"
    },
    "executionInfo": {
     "elapsed": 38,
     "status": "ok",
     "timestamp": 1632947751719,
     "user": {
      "displayName": "Pratik Nagelia",
      "photoUrl": "https://lh3.googleusercontent.com/a-/AOh14GhOSCcWFsaLp4SqS0bQonpKsgiXwcYY2w_a4xoR=s64",
      "userId": "11002211455528701218"
     },
     "user_tz": 240
    },
    "id": "_E_UKStULZwB",
    "outputId": "de2a145b-ad4a-4ff3-f6e5-77f1ebad3591"
   },
   "outputs": [
    {
     "data": {
      "text/plain": [
       "64"
      ]
     },
     "execution_count": 15,
     "metadata": {},
     "output_type": "execute_result"
    }
   ],
   "source": [
    "len(TotalDict['7b05cf2e-65bc-47d2-a186-85ef1df0ad99'])"
   ]
  },
  {
   "cell_type": "code",
   "execution_count": 16,
   "metadata": {
    "executionInfo": {
     "elapsed": 21,
     "status": "ok",
     "timestamp": 1632947751720,
     "user": {
      "displayName": "Pratik Nagelia",
      "photoUrl": "https://lh3.googleusercontent.com/a-/AOh14GhOSCcWFsaLp4SqS0bQonpKsgiXwcYY2w_a4xoR=s64",
      "userId": "11002211455528701218"
     },
     "user_tz": 240
    },
    "id": "eQ3FnfZ7qrZ_"
   },
   "outputs": [],
   "source": [
    "FinalTotalDict = {}\n",
    "for user in TotalDict.keys():\n",
    "  userDict = {}\n",
    "  for command in TotalDict[user].keys():\n",
    "    command_ = command[command.find(user) + len(user): ][1:-1]\n",
    "    userDict[command_] = TotalDict[user][command]\n",
    "  FinalTotalDict[user] = userDict"
   ]
  },
  {
   "cell_type": "code",
   "execution_count": 17,
   "metadata": {
    "colab": {
     "base_uri": "https://localhost:8080/"
    },
    "executionInfo": {
     "elapsed": 21,
     "status": "ok",
     "timestamp": 1632947751720,
     "user": {
      "displayName": "Pratik Nagelia",
      "photoUrl": "https://lh3.googleusercontent.com/a-/AOh14GhOSCcWFsaLp4SqS0bQonpKsgiXwcYY2w_a4xoR=s64",
      "userId": "11002211455528701218"
     },
     "user_tz": 240
    },
    "id": "cG1ztpU3cRBo",
    "outputId": "518dc9a3-2aac-4f7a-f356-d42a3d0e27fe"
   },
   "outputs": [
    {
     "data": {
      "text/plain": [
       "64"
      ]
     },
     "execution_count": 17,
     "metadata": {},
     "output_type": "execute_result"
    }
   ],
   "source": [
    "len(FinalTotalDict[\"7b05cf2e-65bc-47d2-a186-85ef1df0ad99\"])"
   ]
  },
  {
   "cell_type": "code",
   "execution_count": 18,
   "metadata": {
    "executionInfo": {
     "elapsed": 143,
     "status": "ok",
     "timestamp": 1632947751859,
     "user": {
      "displayName": "Pratik Nagelia",
      "photoUrl": "https://lh3.googleusercontent.com/a-/AOh14GhOSCcWFsaLp4SqS0bQonpKsgiXwcYY2w_a4xoR=s64",
      "userId": "11002211455528701218"
     },
     "user_tz": 240
    },
    "id": "GvU9r-b2qz-8"
   },
   "outputs": [],
   "source": [
    "import ast\n",
    "import collections\n",
    "from jiwer import wer\n",
    "word_error_rate={}\n",
    "error_rates = []\n",
    "recognized = collections.defaultdict(list)\n",
    "CountDict = {}\n",
    "phrase1_count = 0\n",
    "phrase2_count = 0\n",
    "for user in FinalTotalDict.keys():\n",
    "    count = 0\n",
    "    for command in FinalTotalDict[user].keys():\n",
    "        trimmedCommand = command.strip().lower()\n",
    "        actual = command.strip()\n",
    "        for trial in FinalTotalDict[user][command]:\n",
    "            if len(trial)!= 0:\n",
    "                trial = ast.literal_eval(trial)\n",
    "#                 print()\n",
    "                if trial['RecognitionStatus'] == \"Success\":\n",
    "                    speechResult = trial[\"NBest\"][0][\"Lexical\"].lower()\n",
    "                    recognized[actual].append(speechResult)\n",
    "                    recognized[actual].append(trial[\"NBest\"][0][\"Confidence\"])\n",
    "                    word_error_rate[(trimmedCommand, speechResult)] = wer(trimmedCommand, speechResult)\n",
    "                    error_rates.append(wer(trimmedCommand, speechResult))\n",
    "                    if speechResult == trimmedCommand:\n",
    "                        if actual in phrases1:\n",
    "                            phrase1_count+=1\n",
    "                        if actual in phrases2:\n",
    "                            phrase2_count+=1\n",
    "\n",
    "                        count+=1\n",
    "    \n",
    "    \n",
    "    CountDict[user] = count"
   ]
  },
  {
   "cell_type": "code",
   "execution_count": 19,
   "metadata": {
    "colab": {
     "base_uri": "https://localhost:8080/"
    },
    "executionInfo": {
     "elapsed": 18,
     "status": "ok",
     "timestamp": 1632947751859,
     "user": {
      "displayName": "Pratik Nagelia",
      "photoUrl": "https://lh3.googleusercontent.com/a-/AOh14GhOSCcWFsaLp4SqS0bQonpKsgiXwcYY2w_a4xoR=s64",
      "userId": "11002211455528701218"
     },
     "user_tz": 240
    },
    "id": "XxNiaTxHq4Jz",
    "outputId": "073344f6-7200-488e-bcaf-79aaa4072389"
   },
   "outputs": [
    {
     "name": "stdout",
     "output_type": "stream",
     "text": [
      "{'7b05cf2e-65bc-47d2-a186-85ef1df0ad99': 59} 31 28\n"
     ]
    }
   ],
   "source": [
    "print(CountDict, phrase1_count, phrase2_count)"
   ]
  },
  {
   "cell_type": "code",
   "execution_count": 20,
   "metadata": {},
   "outputs": [
    {
     "data": {
      "text/plain": [
       "0.01809085012210012"
      ]
     },
     "execution_count": 20,
     "metadata": {},
     "output_type": "execute_result"
    }
   ],
   "source": [
    "average_word_error_rate = sum(error_rates)/len(error_rates)\n",
    "average_word_error_rate"
   ]
  },
  {
   "cell_type": "code",
   "execution_count": 39,
   "metadata": {},
   "outputs": [
    {
     "name": "stdout",
     "output_type": "stream",
     "text": [
      "0.9819091498778999\n"
     ]
    }
   ],
   "source": [
    "print(1 - average_word_error_rate)"
   ]
  },
  {
   "cell_type": "code",
   "execution_count": 22,
   "metadata": {
    "colab": {
     "base_uri": "https://localhost:8080/"
    },
    "executionInfo": {
     "elapsed": 3,
     "status": "ok",
     "timestamp": 1632947751859,
     "user": {
      "displayName": "Pratik Nagelia",
      "photoUrl": "https://lh3.googleusercontent.com/a-/AOh14GhOSCcWFsaLp4SqS0bQonpKsgiXwcYY2w_a4xoR=s64",
      "userId": "11002211455528701218"
     },
     "user_tz": 240
    },
    "id": "pZAmR6BVrlOb",
    "outputId": "81514350-cbb5-4ffe-a4ae-6ecbb3b02704"
   },
   "outputs": [
    {
     "name": "stdout",
     "output_type": "stream",
     "text": [
      "Accuracy :  0.921875\n"
     ]
    }
   ],
   "source": [
    "sum = 0\n",
    "for count in CountDict.keys():\n",
    "  sum+= CountDict[count]\n",
    "\n",
    "total = 64 * len(CountDict)\n",
    "\n",
    "## (Total number of audio files  = 96 x # of users)\n",
    "\n",
    "print(\"Accuracy : \" , sum/total)"
   ]
  },
  {
   "cell_type": "code",
   "execution_count": 23,
   "metadata": {},
   "outputs": [
    {
     "data": {
      "text/plain": [
       "{('bring me some water', 'bring me some water'): 0.0,\n",
       " ('bring the cup to me', 'bring the cup to me'): 0.0,\n",
       " ('bring the spoon closer', 'bring the spoon closer'): 0.0,\n",
       " ('close the browser', 'who is the browser'): 0.6666666666666666,\n",
       " ('close the door', 'close the door'): 0.0,\n",
       " ('copy the folder', 'copy the folder'): 0.0,\n",
       " ('create calendar event', 'create calendar event'): 0.0,\n",
       " ('drill down', 'drill down'): 0.0,\n",
       " ('get me some pepper', 'get me some pepper'): 0.0,\n",
       " ('get me some salt', 'get me some salt'): 0.0,\n",
       " ('get me the blue cup', 'get me the blue cup'): 0.0,\n",
       " ('get the milk from the fridge', 'get the milk from the fridge'): 0.0,\n",
       " ('get the pen from the drawer', 'get the pen from the drawer'): 0.0,\n",
       " ('go back', 'go back'): 0.0,\n",
       " ('go forward', 'go forward'): 0.0,\n",
       " ('go home', 'go home'): 0.0,\n",
       " ('hold the door open', 'hold the door open'): 0.0,\n",
       " ('invite for a meeting', 'invite for a meeting'): 0.0,\n",
       " ('move the cup to the left of the bowl',\n",
       "  'move the cup to the left of the bowel'): 0.1111111111111111,\n",
       " ('move the cup to the right', 'move the cup to the right'): 0.0,\n",
       " ('move to the left', 'move to the left'): 0.0,\n",
       " ('move to the right', 'move to the right'): 0.0,\n",
       " ('navigate to place', 'navigate to place'): 0.0,\n",
       " ('nearest coffee shop', 'nearest coffee shop'): 0.0,\n",
       " ('next slide', 'next slide'): 0.0,\n",
       " ('open control center', 'open control center'): 0.0,\n",
       " ('open privacy settings', 'open privacy settings'): 0.0,\n",
       " ('open the box', 'open the box'): 0.0,\n",
       " ('open window', 'open window'): 0.0,\n",
       " ('open youtube', 'open youtube'): 0.0,\n",
       " ('pick up the bowl and place it in front of the cheez-it box',\n",
       "  'pick up the bowl and place it in front of the cheese it box'): 0.15384615384615385,\n",
       " ('pick up the cup and place it on top of the table',\n",
       "  'pick up the cup and place it on the top of the table'): 0.08333333333333333,\n",
       " ('pick up the spoon', 'pick up the spoon'): 0.0,\n",
       " ('pick up the spoon and place it next to the bowl',\n",
       "  'pick up the spoon and place it next to the bowl'): 0.0,\n",
       " ('place the book in the drawer', 'place the book in the drawer'): 0.0,\n",
       " ('place the book in the shelf', 'place the book in the shelf'): 0.0,\n",
       " ('place the bowl in front of me', 'place the bowl in front of me'): 0.0,\n",
       " ('place the dish in the dishwasher', 'place the dish in the dishwasher'): 0.0,\n",
       " ('place the dishes in the dish rack',\n",
       "  'place the dishes in the dish rack'): 0.0,\n",
       " ('place the mug in the sink', 'place the mug in the sink'): 0.0,\n",
       " ('place the plate on the table', 'place the plate on the table'): 0.0,\n",
       " ('play a song', 'play a song'): 0.0,\n",
       " ('pour some cereal into the bowl', 'pour some cereal into the bowl'): 0.0,\n",
       " ('pour some juice into the cup', 'pour some juice into the cup'): 0.0,\n",
       " ('pour some water into the cup', 'pour some water into the cup'): 0.0,\n",
       " ('print document', 'print document'): 0.0,\n",
       " ('remind me to go to party', 'remind me to go to party'): 0.0,\n",
       " ('restart computer', 'restart computer'): 0.0,\n",
       " ('search on google', 'search on google'): 0.0,\n",
       " ('send an email', 'send an email'): 0.0,\n",
       " ('set an alarm', 'set an alarm'): 0.0,\n",
       " ('set out', 'set out'): 0.0,\n",
       " ('show confirmation', 'show confirmation'): 0.0,\n",
       " ('show hints', 'show hints'): 0.0,\n",
       " ('show my search history', 'show my search history'): 0.0,\n",
       " ('shut down the system', 'shut down the system'): 0.0,\n",
       " ('take screenshot', 'take screenshot'): 0.0,\n",
       " ('tell me a joke', 'tell me a joke'): 0.0,\n",
       " ('throw the apple into the trash can',\n",
       "  'through the apple into the trash can'): 0.14285714285714285,\n",
       " ('turn off the switch', 'turn off the switch'): 0.0,\n",
       " ('turn off voice control', 'turn off voice control'): 0.0,\n",
       " ('turn on the switch', 'turn on the switch'): 0.0,\n",
       " ('turn up volume', 'turn up volume'): 0.0,\n",
       " ('watch titanic', 'watch titanic'): 0.0}"
      ]
     },
     "execution_count": 23,
     "metadata": {},
     "output_type": "execute_result"
    }
   ],
   "source": [
    "word_error_rate"
   ]
  },
  {
   "cell_type": "code",
   "execution_count": 24,
   "metadata": {},
   "outputs": [
    {
     "data": {
      "text/plain": [
       "defaultdict(list,\n",
       "            {'Bring me some water': [('bring me some water', 0.7564853),\n",
       "              ('bringing me some water', 0.6386989),\n",
       "              ('bring me some water are', 0.6680599),\n",
       "              ('bring me some water for', 0.6545502),\n",
       "              ('bring me some water i', 0.7417185)],\n",
       "             'Bring the cup to me': [('bring the cup to me', 0.6839222),\n",
       "              ('bringing the cup to me', 0.6294479),\n",
       "              ('bring the come up to me', 0.6383826),\n",
       "              ('bring the cup tomy', 0.54725593),\n",
       "              ('bring the cups to me', 0.64567006)],\n",
       "             'Bring the spoon closer': [('bring the spoon closer', 0.69899863),\n",
       "              ('bringing the spoon closer', 0.65097356),\n",
       "              ('bring the spoon closure', 0.6609907),\n",
       "              ('bringing the spoon closure', 0.61296564),\n",
       "              ('bring the spoon clothes are', 0.6140095)],\n",
       "             'close the browser': [('who is the browser', 0.53690517),\n",
       "              ('loses the browser', 0.50660974),\n",
       "              (\"who's the browser\", 0.5171704),\n",
       "              (\"who's is the browser\", 0.49278992),\n",
       "              ('who was the browser', 0.4741858)],\n",
       "             'Close the door': [('close the door', 0.66170096),\n",
       "              ('close the doors', 0.55671936),\n",
       "              ('close the door or', 0.5580997),\n",
       "              ('close the dorr', 0.50722957),\n",
       "              ('lose the door', 0.5988812)],\n",
       "             'copy the folder': [('copy the folder', 0.80938435),\n",
       "              ('copied the folder', 0.75294447),\n",
       "              ('i copy the folder', 0.7856032),\n",
       "              ('copy the folders', 0.77965033),\n",
       "              ('copy the folder are', 0.7490268)],\n",
       "             'create calendar event': [('create calendar event', 0.84508467),\n",
       "              ('create a calendar event', 0.8333327),\n",
       "              ('create calendar events', 0.82659626),\n",
       "              ('create a calendar events', 0.7994345),\n",
       "              ('create calendar event i', 0.83375245)],\n",
       "             'drill down': [('drill down', 0.78872633),\n",
       "              ('drilled down', 0.72928464),\n",
       "              ('dril down', 0.7199086),\n",
       "              ('drilling down', 0.69290805),\n",
       "              ('drill down on', 0.76955664)],\n",
       "             'Get me some pepper': [('get me some pepper', 0.85490793),\n",
       "              ('get me some paper', 0.87378955),\n",
       "              ('get me some peppers', 0.7875665),\n",
       "              ('get me sum pepper', 0.73595035),\n",
       "              ('get me some papers', 0.81447756)],\n",
       "             'Get me some salt': [('get me some salt', 0.6203019),\n",
       "              ('get me some fault', 0.582337),\n",
       "              ('get me some faults', 0.52923775),\n",
       "              ('get me some salts', 0.5210555),\n",
       "              ('get me some sault', 0.54203266)],\n",
       "             'Get me the blue cup': [('get me the blue cup', 0.72778875),\n",
       "              ('get me the blu cup', 0.61954695),\n",
       "              ('get me the blue cupp', 0.64396805),\n",
       "              ('get me the bleu cup', 0.627047),\n",
       "              ('get me the blue cups', 0.62222314)],\n",
       "             'Get the milk from the fridge': [('get the milk from the fridge',\n",
       "               0.8820748),\n",
       "              ('i get the milk from the fridge', 0.89546156),\n",
       "              ('get the milk from the fridge i', 0.8719932),\n",
       "              ('get the milk from the frige', 0.81224173),\n",
       "              ('get the milk from the fridg', 0.80942506)],\n",
       "             'Get the pen from the drawer': [('get the pen from the drawer',\n",
       "               0.7083108),\n",
       "              ('get the pan from the drawer', 0.6881816),\n",
       "              ('get the pain from the drawer', 0.69084895),\n",
       "              ('get the penn from the drawer', 0.6567392),\n",
       "              ('get the pen from their drawer', 0.6288919)],\n",
       "             'go back': [('go back', 0.6518831),\n",
       "              ('i go back', 0.6447642),\n",
       "              ('go go back', 0.50225765),\n",
       "              ('go back to', 0.6191075),\n",
       "              ('go to back', 0.44558218)],\n",
       "             'go forward': [('go forward', 0.73257697),\n",
       "              ('i go forward', 0.7009379),\n",
       "              ('go go forward', 0.5826614),\n",
       "              ('go to forward', 0.5674296),\n",
       "              ('go foreword', 0.5395935)],\n",
       "             'go home': [('go home', 0.75376606),\n",
       "              ('go to home', 0.616777),\n",
       "              ('i go home', 0.7606069),\n",
       "              ('go go home', 0.59591293),\n",
       "              ('go home oh', 0.7366817)],\n",
       "             'Hold the door open': [('hold the door open', 0.7846897),\n",
       "              ('hold a door open', 0.77253634),\n",
       "              ('hold the door open and', 0.76106817),\n",
       "              ('hold the door opened', 0.73858476),\n",
       "              ('hold the door open now', 0.75531477)],\n",
       "             'invite for a meeting': [('invite for a meeting', 0.8872299),\n",
       "              ('invite for uh meeting', 0.8404244),\n",
       "              ('invite four a meeting', 0.7869273),\n",
       "              ('invite forum eating', 0.749371),\n",
       "              ('invite forum meeting', 0.7516067)],\n",
       "             'Move the cup to the left of the bowl': [('move the cup to the left of the bowel',\n",
       "               0.70300657),\n",
       "              ('move the cup to the left of the bowl', 0.72283417),\n",
       "              ('moved the cup to the left of the bowel', 0.6839585),\n",
       "              ('moved the cup to the left of the bowl', 0.7039135),\n",
       "              ('move the car up to the left of the bowel', 0.70484096)],\n",
       "             'Move the cup to the right': [('move the cup to the right',\n",
       "               0.7939561),\n",
       "              ('moved the cup to the right', 0.76075363),\n",
       "              ('i move the cup to the right', 0.8100551),\n",
       "              ('move the cup to the wright', 0.74534816),\n",
       "              ('i moved the cup to the right', 0.79968023)],\n",
       "             'Move to the left': [('move to the left', 0.7902415),\n",
       "              ('moved to the left', 0.7054635),\n",
       "              ('i move to the left', 0.8123055),\n",
       "              ('move to the left eye', 0.77820724),\n",
       "              ('move to the left i', 0.7789031)],\n",
       "             'Move to the right': [('move to the right', 0.7102917),\n",
       "              ('moved to the right', 0.63249296),\n",
       "              ('i move to the right', 0.70085156),\n",
       "              ('move to the wright', 0.5402374),\n",
       "              ('move to the rite', 0.52395666)],\n",
       "             'Navigate to place': [('navigate to place', 0.83072907),\n",
       "              ('navigate two place', 0.7650447),\n",
       "              ('navigate to pl', 0.7111803),\n",
       "              ('navigate two pl', 0.68519944),\n",
       "              ('navigate too place', 0.7256294)],\n",
       "             'nearest coffee shop': [('nearest coffee shop', 0.75903344),\n",
       "              ('nearest coffeeshop', 0.79298306),\n",
       "              ('nearest coffee shops', 0.7296823),\n",
       "              ('nearest coffee shoppe', 0.6789802),\n",
       "              ('nearest coffee shopp', 0.6533362)],\n",
       "             'next slide': [('next slide', 0.87831014),\n",
       "              ('nxt slide', 0.66429454),\n",
       "              ('next slide i', 0.859145),\n",
       "              ('next slide show', 0.83548903),\n",
       "              ('next slide in', 0.8373175)],\n",
       "             'open control center': [('open control center', 0.7030624),\n",
       "              ('open control centre', 0.6978873),\n",
       "              ('open control senter', 0.58113354),\n",
       "              ('open control center are', 0.59714645),\n",
       "              ('open control centerr', 0.567834)],\n",
       "             'open privacy settings': [('open privacy settings', 0.53181046),\n",
       "              (\"open privacy setting 's\", 0.44414154),\n",
       "              ('open privacy settings i', 0.5148769),\n",
       "              ('open privacy settings on', 0.5011042),\n",
       "              ('open privacy settings uh', 0.51216626)],\n",
       "             'Open the box': [('open the box', 0.74979657),\n",
       "              ('open the boxed', 0.6052728),\n",
       "              ('open the boxes', 0.6599779),\n",
       "              ('open in the box', 0.64760387),\n",
       "              ('open the box too', 0.7112247)],\n",
       "             'open window': [('open window', 0.744741),\n",
       "              ('open windows', 0.63885796),\n",
       "              ('open wind oh', 0.5246202),\n",
       "              ('open wind o', 0.5046132),\n",
       "              ('open window i', 0.7126772)],\n",
       "             'open youtube': [('open youtube', 0.7341009),\n",
       "              ('open you tube', 0.6388221),\n",
       "              ('open in youtube', 0.64900863),\n",
       "              ('i open youtube', 0.6384326),\n",
       "              ('open youtube app', 0.68830323)],\n",
       "             'Pick up the bowl and place it in front of the cheez-it box': [('pick up the bowl and place it in front of the cheese it box',\n",
       "               0.8134511),\n",
       "              ('pick up the bowl and place it in front of the cheez-it box',\n",
       "               0.8142778),\n",
       "              ('pick up the bowl and place it in front of the cheez it box',\n",
       "               0.82528573),\n",
       "              ('pick up the bowl and place it in front of the cheese box',\n",
       "               0.83005947),\n",
       "              ('pick up the bowl and place it in front of the cheezit box',\n",
       "               0.81252354)],\n",
       "             'Pick up the cup and place it on top of the table': [('pick up the cup and place it on the top of the table',\n",
       "               0.9041242),\n",
       "              ('pickup the cup and place it on the top of the table',\n",
       "               0.8744882),\n",
       "              ('pick up the car up and place it on the top of the table',\n",
       "               0.8747492),\n",
       "              ('pick up the cap and place it on the top of the table',\n",
       "               0.8743334),\n",
       "              ('pick up the cup up and place it on the top of the table',\n",
       "               0.86264014)],\n",
       "             'Pick up the spoon': [('pick up the spoon', 0.8955191),\n",
       "              ('pickup the spoon', 0.85427487),\n",
       "              ('i pick up the spoon', 0.89264446),\n",
       "              ('picked up the spoon', 0.807278),\n",
       "              ('pic up the spoon', 0.81777436)],\n",
       "             'Pick up the spoon and place it next to the bowl': [('pick up the spoon and place it next to the bowl',\n",
       "               0.8963209),\n",
       "              ('pickup the spoon and place it next to the bowl', 0.874563),\n",
       "              ('pick up the spoon and place it next to the bowel', 0.8708759),\n",
       "              ('pick up the spoon and place it next to the boul', 0.8601133),\n",
       "              ('pick up the spoon and place it next to the bol', 0.85907763)],\n",
       "             'Place the book in the drawer': [('place the book in the drawer',\n",
       "               0.7872469),\n",
       "              ('place the books in the drawer', 0.77282387),\n",
       "              (\"play 's the book in the drawer\", 0.7740238),\n",
       "              ('place the book in the draw', 0.7200379),\n",
       "              ('replace the book in the drawer', 0.7190106)],\n",
       "             'Place the book in the shelf': [('place the book in the shelf',\n",
       "               0.6426653),\n",
       "              ('please the book in the shelf', 0.6053975),\n",
       "              ('placed the book in the shelf', 0.6161046),\n",
       "              ('replace the book in the shelf', 0.61802495),\n",
       "              ('place the books in the shelf', 0.5938583)],\n",
       "             'Place the bowl in front of me': [('place the bowl in front of me',\n",
       "               0.8557629),\n",
       "              ('place the ball in front of me', 0.8507717),\n",
       "              (\"play 's the bowl in front of me\", 0.82898515),\n",
       "              ('place the bol in front of me', 0.80504036),\n",
       "              ('replace the bowl in front of me', 0.7811732)],\n",
       "             'Place the dish in the dishwasher': [('place the dish in the dishwasher',\n",
       "               0.77387553),\n",
       "              ('please the dish in the dishwasher', 0.73626024),\n",
       "              ('placed the dish in the dishwasher', 0.7236806),\n",
       "              ('replace the dish in the dishwasher', 0.71641207),\n",
       "              ('place that dish in the dishwasher', 0.70554036)],\n",
       "             'Place the dishes in the dish rack': [('place the dishes in the dish rack',\n",
       "               0.6603262),\n",
       "              ('place the dishes in the dish track', 0.662024),\n",
       "              ('please the dishes in the dish rack', 0.6365856),\n",
       "              ('please the dishes in the dish track', 0.6382835),\n",
       "              ('police the dishes in the dish rack', 0.63047904)],\n",
       "             'Place the mug in the sink': [('place the mug in the sink',\n",
       "               0.79147536),\n",
       "              ('place the mug in the sync', 0.7698602),\n",
       "              (\"play 's the mug in the sink\", 0.7809714),\n",
       "              ('place the mugs in the sink', 0.76767755),\n",
       "              ('place them ugh in the sink', 0.7671465)],\n",
       "             'Place the plate on the table': [('place the plate on the table',\n",
       "               0.83460915),\n",
       "              ('replace the plate on the table', 0.77711236),\n",
       "              (\"play 's the plate on the table\", 0.81151694),\n",
       "              ('place the plate on the table i', 0.82761645),\n",
       "              ('place the plate on the table now', 0.8163625)],\n",
       "             'play a song': [('play a song', 0.636541),\n",
       "              ('play a songs', 0.53941953),\n",
       "              ('play uh song', 0.55296534),\n",
       "              ('play a song', 0.53249),\n",
       "              ('play us song', 0.45211738)],\n",
       "             'Pour some cereal into the bowl': [('pour some cereal into the bowl',\n",
       "               0.62679625),\n",
       "              ('pull some cereal into the bowl', 0.60880506),\n",
       "              ('poor some cereal into the bowl', 0.59868884),\n",
       "              ('pours some cereal into the bowl', 0.60781395),\n",
       "              ('por some cereal into the bowl', 0.60102934)],\n",
       "             'Pour some juice into the cup': [('pour some juice into the cup',\n",
       "               0.7171785),\n",
       "              ('port some juice into the cup', 0.66939515),\n",
       "              ('poured some juice into the cup', 0.71313137),\n",
       "              ('pours some juice into the cup', 0.70269877),\n",
       "              ('post some juice into the cup', 0.66801214)],\n",
       "             'Pour some water into the cup': [('pour some water into the cup',\n",
       "               0.8039437),\n",
       "              ('pull some water into the cup', 0.7474128),\n",
       "              ('pour some water in to the cup', 0.75384647),\n",
       "              ('pour some water into the cupp', 0.75224245),\n",
       "              ('poor some water into the cup', 0.73402524)],\n",
       "             'print document': [('print document', 0.88447535),\n",
       "              ('print documents', 0.84013975),\n",
       "              ('i print document', 0.8344816),\n",
       "              ('sprint document', 0.79102707),\n",
       "              ('print document it', 0.8112855)],\n",
       "             'remind me to go to party': [('remind me to go to party',\n",
       "               0.83444905),\n",
       "              ('remind me to go to parties', 0.7506443),\n",
       "              ('remind me to go to potty', 0.75461566),\n",
       "              ('remind me to go to patty', 0.7457537),\n",
       "              ('remind me to go to parti', 0.7357243)],\n",
       "             'restart computer': [('restart computer', 0.77834505),\n",
       "              ('we start computer', 0.6804869),\n",
       "              ('restart komputer', 0.60159373),\n",
       "              ('restart computer now', 0.7162523),\n",
       "              ('restart computer are', 0.507724)],\n",
       "             'search on google': [('search on google', 0.65159863),\n",
       "              ('serge on google', 0.5788628),\n",
       "              ('search on google it', 0.5774635),\n",
       "              ('surge on google', 0.53595763),\n",
       "              ('search on google earth', 0.5562459)],\n",
       "             'send an email': [('send an email', 0.8713462),\n",
       "              ('send an e mail', 0.793264),\n",
       "              ('i send an email', 0.8311473),\n",
       "              ('send an email to', 0.85316515),\n",
       "              ('send an email out', 0.8376298)],\n",
       "             'set an alarm': [('set an alarm', 0.7147735),\n",
       "              ('set and alarm', 0.6523587),\n",
       "              ('set alarm', 0.79450387),\n",
       "              ('set an allarme', 0.65621966),\n",
       "              ('set an alarm for', 0.6557003)],\n",
       "             'set out': [('set out', 0.582561),\n",
       "              ('sat out', 0.4988382),\n",
       "              ('sent out', 0.50780857),\n",
       "              ('send it out', 0.4857219),\n",
       "              ('set it out', 0.45360386)],\n",
       "             'show confirmation': [('show confirmation', 0.8113422),\n",
       "              ('shogun information', 0.7024167),\n",
       "              ('shogun formation', 0.64257294),\n",
       "              ('show gun formation', 0.6484181),\n",
       "              ('shogun for may shun', 0.52743804)],\n",
       "             'show hints': [('show hints', 0.6854611),\n",
       "              ('show hintz', 0.55111897),\n",
       "              ('sho hints', 0.57485956),\n",
       "              ('show hits', 0.57847923),\n",
       "              ('joe hints', 0.48149946)],\n",
       "             'show my search history': [('show my search history', 0.68855613),\n",
       "              ('show me my search history', 0.7220551),\n",
       "              ('show my search history i', 0.6738009),\n",
       "              ('show my search history is', 0.65914226),\n",
       "              ('show my search history now', 0.6533692)],\n",
       "             'shut down the system': [('shut down the system', 0.9229648),\n",
       "              ('shutdown the system', 0.87456626),\n",
       "              ('i shut down the system', 0.8976426),\n",
       "              ('shut down the system i', 0.90933484),\n",
       "              (\"shut down the system 's\", 0.908033)],\n",
       "             'take screenshot': [('take screenshot', 0.7466503),\n",
       "              ('take screen shot', 0.66073716),\n",
       "              ('takes screenshot', 0.6756535),\n",
       "              ('i take screenshot', 0.7356929),\n",
       "              ('take screenshots', 0.71422654)],\n",
       "             'tell me a joke': [('tell me a joke', 0.9112312),\n",
       "              ('tell me a jok', 0.8550238),\n",
       "              ('tell me a joke joke', 0.7652726),\n",
       "              ('tell me a jokes', 0.7884968),\n",
       "              ('tell me a joke a', 0.89269054)],\n",
       "             'Throw the apple into the trash can': [('through the apple into the trash can',\n",
       "               0.7376356),\n",
       "              ('threw the apple into the trash can', 0.7293311),\n",
       "              ('throw the apple into the trash can', 0.7149087),\n",
       "              ('true the apple into the trash can', 0.7018036),\n",
       "              ('thru the apple into the trash can', 0.72080296)],\n",
       "             'Turn off the switch': [('turn off the switch', 0.79574454),\n",
       "              ('turn off the switch off', 0.72981524),\n",
       "              ('turn off the switch on', 0.7301868),\n",
       "              ('turn off the switch i', 0.75976235),\n",
       "              ('turn off the switch it', 0.72973126)],\n",
       "             'turn off voice control': [('turn off voice control', 0.8485383),\n",
       "              ('turn off voice controle', 0.7313826),\n",
       "              ('turn off the voice control', 0.79113084),\n",
       "              ('turn off voice controll', 0.73733366),\n",
       "              ('turn off voice control it', 0.8193682)],\n",
       "             'Turn on the switch': [('turn on the switch', 0.49403384),\n",
       "              ('turn on the speech', 0.39140162),\n",
       "              ('turn on the switch witch', 0.3016038),\n",
       "              ('turn on the switch which', 0.3095076),\n",
       "              ('turn on the switch e', 0.44867226)],\n",
       "             'turn up volume': [('turn up volume', 0.6276351),\n",
       "              ('turn up volum', 0.481644),\n",
       "              (\"don't know volume\", 0.44613868),\n",
       "              ('turn up volume up', 0.5746792),\n",
       "              ('turn up volume two', 0.5134152)],\n",
       "             'watch titanic': [('watch titanic', 0.701081),\n",
       "              ('i watch titanic', 0.6536449),\n",
       "              ('watch thai tanic', 0.5355033),\n",
       "              (\"watch titanic 's\", 0.6764994),\n",
       "              ('watch titanic oh', 0.67463434)]})"
      ]
     },
     "execution_count": 24,
     "metadata": {},
     "output_type": "execute_result"
    }
   ],
   "source": [
    "\n",
    "command_predictions = collections.defaultdict(list)\n",
    "for command in FinalTotalDict[user].keys():\n",
    "    for trial in FinalTotalDict[user][command]:\n",
    "        if len(trial)!= 0:\n",
    "            trial = ast.literal_eval(trial)\n",
    "#             print(len(trial[\"NBest\"]))\n",
    "            n = 0\n",
    "            while n<len(trial[\"NBest\"]):\n",
    "                speechResult = trial[\"NBest\"][n][\"Lexical\"].lower()\n",
    "                command_predictions[command].append((speechResult,trial[\"NBest\"][n][\"Confidence\"] ))\n",
    "                n+=1\n",
    "command_predictions\n"
   ]
  },
  {
   "cell_type": "code",
   "execution_count": 25,
   "metadata": {},
   "outputs": [
    {
     "data": {
      "text/plain": [
       "64"
      ]
     },
     "execution_count": 25,
     "metadata": {},
     "output_type": "execute_result"
    }
   ],
   "source": [
    "len(command_predictions)"
   ]
  },
  {
   "cell_type": "code",
   "execution_count": 40,
   "metadata": {},
   "outputs": [
    {
     "data": {
      "text/plain": [
       "defaultdict(list,\n",
       "            {'Bring me some water': [['bring me some water', 0.0],\n",
       "              ['bringing me some water', 0.25],\n",
       "              ['bring me some water are', 0.25],\n",
       "              ['bring me some water for', 0.25],\n",
       "              ['bring me some water i', 0.25]],\n",
       "             'Bring the cup to me': [['bring the cup to me', 0.0],\n",
       "              ['bringing the cup to me', 0.2],\n",
       "              ['bring the come up to me', 0.4],\n",
       "              ['bring the cup tomy', 0.4],\n",
       "              ['bring the cups to me', 0.2]],\n",
       "             'Bring the spoon closer': [['bring the spoon closer', 0.0],\n",
       "              ['bringing the spoon closer', 0.25],\n",
       "              ['bring the spoon closure', 0.25],\n",
       "              ['bringing the spoon closure', 0.5],\n",
       "              ['bring the spoon clothes are', 0.5]],\n",
       "             'close the browser': [['who is the browser', 0.6666666666666666],\n",
       "              ['loses the browser', 0.3333333333333333],\n",
       "              [\"who's the browser\", 0.3333333333333333],\n",
       "              [\"who's is the browser\", 0.6666666666666666],\n",
       "              ['who was the browser', 0.6666666666666666]],\n",
       "             'Close the door': [['close the door', 0.0],\n",
       "              ['close the doors', 0.3333333333333333],\n",
       "              ['close the door or', 0.3333333333333333],\n",
       "              ['close the dorr', 0.3333333333333333],\n",
       "              ['lose the door', 0.3333333333333333]],\n",
       "             'copy the folder': [['copy the folder', 0.0],\n",
       "              ['copied the folder', 0.3333333333333333],\n",
       "              ['i copy the folder', 0.3333333333333333],\n",
       "              ['copy the folders', 0.3333333333333333],\n",
       "              ['copy the folder are', 0.3333333333333333]],\n",
       "             'create calendar event': [['create calendar event', 0.0],\n",
       "              ['create a calendar event', 0.3333333333333333],\n",
       "              ['create calendar events', 0.3333333333333333],\n",
       "              ['create a calendar events', 0.6666666666666666],\n",
       "              ['create calendar event i', 0.3333333333333333]],\n",
       "             'drill down': [['drill down', 0.0],\n",
       "              ['drilled down', 0.5],\n",
       "              ['dril down', 0.5],\n",
       "              ['drilling down', 0.5],\n",
       "              ['drill down on', 0.5]],\n",
       "             'Get me some pepper': [['get me some pepper', 0.0],\n",
       "              ['get me some paper', 0.25],\n",
       "              ['get me some peppers', 0.25],\n",
       "              ['get me sum pepper', 0.25],\n",
       "              ['get me some papers', 0.25]],\n",
       "             'Get me some salt': [['get me some salt', 0.0],\n",
       "              ['get me some fault', 0.25],\n",
       "              ['get me some faults', 0.25],\n",
       "              ['get me some salts', 0.25],\n",
       "              ['get me some sault', 0.25]],\n",
       "             'Get me the blue cup': [['get me the blue cup', 0.0],\n",
       "              ['get me the blu cup', 0.2],\n",
       "              ['get me the blue cupp', 0.2],\n",
       "              ['get me the bleu cup', 0.2],\n",
       "              ['get me the blue cups', 0.2]],\n",
       "             'Get the milk from the fridge': [['get the milk from the fridge',\n",
       "               0.0],\n",
       "              ['i get the milk from the fridge', 0.16666666666666666],\n",
       "              ['get the milk from the fridge i', 0.16666666666666666],\n",
       "              ['get the milk from the frige', 0.16666666666666666],\n",
       "              ['get the milk from the fridg', 0.16666666666666666]],\n",
       "             'Get the pen from the drawer': [['get the pen from the drawer',\n",
       "               0.0],\n",
       "              ['get the pan from the drawer', 0.16666666666666666],\n",
       "              ['get the pain from the drawer', 0.16666666666666666],\n",
       "              ['get the penn from the drawer', 0.16666666666666666],\n",
       "              ['get the pen from their drawer', 0.16666666666666666]],\n",
       "             'go back': [['go back', 0.0],\n",
       "              ['i go back', 0.5],\n",
       "              ['go go back', 0.5],\n",
       "              ['go back to', 0.5],\n",
       "              ['go to back', 0.5]],\n",
       "             'go forward': [['go forward', 0.0],\n",
       "              ['i go forward', 0.5],\n",
       "              ['go go forward', 0.5],\n",
       "              ['go to forward', 0.5],\n",
       "              ['go foreword', 0.5]],\n",
       "             'go home': [['go home', 0.0],\n",
       "              ['go to home', 0.5],\n",
       "              ['i go home', 0.5],\n",
       "              ['go go home', 0.5],\n",
       "              ['go home oh', 0.5]],\n",
       "             'Hold the door open': [['hold the door open', 0.0],\n",
       "              ['hold a door open', 0.25],\n",
       "              ['hold the door open and', 0.25],\n",
       "              ['hold the door opened', 0.25],\n",
       "              ['hold the door open now', 0.25]],\n",
       "             'invite for a meeting': [['invite for a meeting', 0.0],\n",
       "              ['invite for uh meeting', 0.25],\n",
       "              ['invite four a meeting', 0.25],\n",
       "              ['invite forum eating', 0.75],\n",
       "              ['invite forum meeting', 0.5]],\n",
       "             'Move the cup to the left of the bowl': [['move the cup to the left of the bowel',\n",
       "               0.1111111111111111],\n",
       "              ['move the cup to the left of the bowl', 0.0],\n",
       "              ['moved the cup to the left of the bowel', 0.2222222222222222],\n",
       "              ['moved the cup to the left of the bowl', 0.1111111111111111],\n",
       "              ['move the car up to the left of the bowel',\n",
       "               0.3333333333333333]],\n",
       "             'Move the cup to the right': [['move the cup to the right', 0.0],\n",
       "              ['moved the cup to the right', 0.16666666666666666],\n",
       "              ['i move the cup to the right', 0.16666666666666666],\n",
       "              ['move the cup to the wright', 0.16666666666666666],\n",
       "              ['i moved the cup to the right', 0.3333333333333333]],\n",
       "             'Move to the left': [['move to the left', 0.0],\n",
       "              ['moved to the left', 0.25],\n",
       "              ['i move to the left', 0.25],\n",
       "              ['move to the left eye', 0.25],\n",
       "              ['move to the left i', 0.25]],\n",
       "             'Move to the right': [['move to the right', 0.0],\n",
       "              ['moved to the right', 0.25],\n",
       "              ['i move to the right', 0.25],\n",
       "              ['move to the wright', 0.25],\n",
       "              ['move to the rite', 0.25]],\n",
       "             'Navigate to place': [['navigate to place', 0.0],\n",
       "              ['navigate two place', 0.3333333333333333],\n",
       "              ['navigate to pl', 0.3333333333333333],\n",
       "              ['navigate two pl', 0.6666666666666666],\n",
       "              ['navigate too place', 0.3333333333333333]],\n",
       "             'nearest coffee shop': [['nearest coffee shop', 0.0],\n",
       "              ['nearest coffeeshop', 0.6666666666666666],\n",
       "              ['nearest coffee shops', 0.3333333333333333],\n",
       "              ['nearest coffee shoppe', 0.3333333333333333],\n",
       "              ['nearest coffee shopp', 0.3333333333333333]],\n",
       "             'next slide': [['next slide', 0.0],\n",
       "              ['nxt slide', 0.5],\n",
       "              ['next slide i', 0.5],\n",
       "              ['next slide show', 0.5],\n",
       "              ['next slide in', 0.5]],\n",
       "             'open control center': [['open control center', 0.0],\n",
       "              ['open control centre', 0.3333333333333333],\n",
       "              ['open control senter', 0.3333333333333333],\n",
       "              ['open control center are', 0.3333333333333333],\n",
       "              ['open control centerr', 0.3333333333333333]],\n",
       "             'open privacy settings': [['open privacy settings', 0.0],\n",
       "              [\"open privacy setting 's\", 0.6666666666666666],\n",
       "              ['open privacy settings i', 0.3333333333333333],\n",
       "              ['open privacy settings on', 0.3333333333333333],\n",
       "              ['open privacy settings uh', 0.3333333333333333]],\n",
       "             'Open the box': [['open the box', 0.0],\n",
       "              ['open the boxed', 0.3333333333333333],\n",
       "              ['open the boxes', 0.3333333333333333],\n",
       "              ['open in the box', 0.3333333333333333],\n",
       "              ['open the box too', 0.3333333333333333]],\n",
       "             'open window': [['open window', 0.0],\n",
       "              ['open windows', 0.5],\n",
       "              ['open wind oh', 1.0],\n",
       "              ['open wind o', 1.0],\n",
       "              ['open window i', 0.5]],\n",
       "             'open youtube': [['open youtube', 0.0],\n",
       "              ['open you tube', 1.0],\n",
       "              ['open in youtube', 0.5],\n",
       "              ['i open youtube', 0.5],\n",
       "              ['open youtube app', 0.5]],\n",
       "             'Pick up the bowl and place it in front of the cheez-it box': [['pick up the bowl and place it in front of the cheese it box',\n",
       "               0.15384615384615385],\n",
       "              ['pick up the bowl and place it in front of the cheez-it box',\n",
       "               0.0],\n",
       "              ['pick up the bowl and place it in front of the cheez it box',\n",
       "               0.15384615384615385],\n",
       "              ['pick up the bowl and place it in front of the cheese box',\n",
       "               0.07692307692307693],\n",
       "              ['pick up the bowl and place it in front of the cheezit box',\n",
       "               0.07692307692307693]],\n",
       "             'Pick up the cup and place it on top of the table': [['pick up the cup and place it on the top of the table',\n",
       "               0.08333333333333333],\n",
       "              ['pickup the cup and place it on the top of the table', 0.25],\n",
       "              ['pick up the car up and place it on the top of the table',\n",
       "               0.25],\n",
       "              ['pick up the cap and place it on the top of the table',\n",
       "               0.16666666666666666],\n",
       "              ['pick up the cup up and place it on the top of the table',\n",
       "               0.16666666666666666]],\n",
       "             'Pick up the spoon': [['pick up the spoon', 0.0],\n",
       "              ['pickup the spoon', 0.5],\n",
       "              ['i pick up the spoon', 0.25],\n",
       "              ['picked up the spoon', 0.25],\n",
       "              ['pic up the spoon', 0.25]],\n",
       "             'Pick up the spoon and place it next to the bowl': [['pick up the spoon and place it next to the bowl',\n",
       "               0.0],\n",
       "              ['pickup the spoon and place it next to the bowl',\n",
       "               0.18181818181818182],\n",
       "              ['pick up the spoon and place it next to the bowel',\n",
       "               0.09090909090909091],\n",
       "              ['pick up the spoon and place it next to the boul',\n",
       "               0.09090909090909091],\n",
       "              ['pick up the spoon and place it next to the bol',\n",
       "               0.09090909090909091]],\n",
       "             'Place the book in the drawer': [['place the book in the drawer',\n",
       "               0.0],\n",
       "              ['place the books in the drawer', 0.16666666666666666],\n",
       "              [\"play 's the book in the drawer\", 0.3333333333333333],\n",
       "              ['place the book in the draw', 0.16666666666666666],\n",
       "              ['replace the book in the drawer', 0.16666666666666666]],\n",
       "             'Place the book in the shelf': [['place the book in the shelf',\n",
       "               0.0],\n",
       "              ['please the book in the shelf', 0.16666666666666666],\n",
       "              ['placed the book in the shelf', 0.16666666666666666],\n",
       "              ['replace the book in the shelf', 0.16666666666666666],\n",
       "              ['place the books in the shelf', 0.16666666666666666]],\n",
       "             'Place the bowl in front of me': [['place the bowl in front of me',\n",
       "               0.0],\n",
       "              ['place the ball in front of me', 0.14285714285714285],\n",
       "              [\"play 's the bowl in front of me\", 0.2857142857142857],\n",
       "              ['place the bol in front of me', 0.14285714285714285],\n",
       "              ['replace the bowl in front of me', 0.14285714285714285]],\n",
       "             'Place the dish in the dishwasher': [['place the dish in the dishwasher',\n",
       "               0.0],\n",
       "              ['please the dish in the dishwasher', 0.16666666666666666],\n",
       "              ['placed the dish in the dishwasher', 0.16666666666666666],\n",
       "              ['replace the dish in the dishwasher', 0.16666666666666666],\n",
       "              ['place that dish in the dishwasher', 0.16666666666666666]],\n",
       "             'Place the dishes in the dish rack': [['place the dishes in the dish rack',\n",
       "               0.0],\n",
       "              ['place the dishes in the dish track', 0.14285714285714285],\n",
       "              ['please the dishes in the dish rack', 0.14285714285714285],\n",
       "              ['please the dishes in the dish track', 0.2857142857142857],\n",
       "              ['police the dishes in the dish rack', 0.14285714285714285]],\n",
       "             'Place the mug in the sink': [['place the mug in the sink', 0.0],\n",
       "              ['place the mug in the sync', 0.16666666666666666],\n",
       "              [\"play 's the mug in the sink\", 0.3333333333333333],\n",
       "              ['place the mugs in the sink', 0.16666666666666666],\n",
       "              ['place them ugh in the sink', 0.3333333333333333]],\n",
       "             'Place the plate on the table': [['place the plate on the table',\n",
       "               0.0],\n",
       "              ['replace the plate on the table', 0.16666666666666666],\n",
       "              [\"play 's the plate on the table\", 0.3333333333333333],\n",
       "              ['place the plate on the table i', 0.16666666666666666],\n",
       "              ['place the plate on the table now', 0.16666666666666666]],\n",
       "             'play a song': [['play a song', 0.0],\n",
       "              ['play a songs', 0.3333333333333333],\n",
       "              ['play uh song', 0.3333333333333333],\n",
       "              ['play a song', 0.0],\n",
       "              ['play us song', 0.3333333333333333]],\n",
       "             'Pour some cereal into the bowl': [['pour some cereal into the bowl',\n",
       "               0.0],\n",
       "              ['pull some cereal into the bowl', 0.16666666666666666],\n",
       "              ['poor some cereal into the bowl', 0.16666666666666666],\n",
       "              ['pours some cereal into the bowl', 0.16666666666666666],\n",
       "              ['por some cereal into the bowl', 0.16666666666666666]],\n",
       "             'Pour some juice into the cup': [['pour some juice into the cup',\n",
       "               0.0],\n",
       "              ['port some juice into the cup', 0.16666666666666666],\n",
       "              ['poured some juice into the cup', 0.16666666666666666],\n",
       "              ['pours some juice into the cup', 0.16666666666666666],\n",
       "              ['post some juice into the cup', 0.16666666666666666]],\n",
       "             'Pour some water into the cup': [['pour some water into the cup',\n",
       "               0.0],\n",
       "              ['pull some water into the cup', 0.16666666666666666],\n",
       "              ['pour some water in to the cup', 0.3333333333333333],\n",
       "              ['pour some water into the cupp', 0.16666666666666666],\n",
       "              ['poor some water into the cup', 0.16666666666666666]],\n",
       "             'print document': [['print document', 0.0],\n",
       "              ['print documents', 0.5],\n",
       "              ['i print document', 0.5],\n",
       "              ['sprint document', 0.5],\n",
       "              ['print document it', 0.5]],\n",
       "             'remind me to go to party': [['remind me to go to party', 0.0],\n",
       "              ['remind me to go to parties', 0.16666666666666666],\n",
       "              ['remind me to go to potty', 0.16666666666666666],\n",
       "              ['remind me to go to patty', 0.16666666666666666],\n",
       "              ['remind me to go to parti', 0.16666666666666666]],\n",
       "             'restart computer': [['restart computer', 0.0],\n",
       "              ['we start computer', 1.0],\n",
       "              ['restart komputer', 0.5],\n",
       "              ['restart computer now', 0.5],\n",
       "              ['restart computer are', 0.5]],\n",
       "             'search on google': [['search on google', 0.0],\n",
       "              ['serge on google', 0.3333333333333333],\n",
       "              ['search on google it', 0.3333333333333333],\n",
       "              ['surge on google', 0.3333333333333333],\n",
       "              ['search on google earth', 0.3333333333333333]],\n",
       "             'send an email': [['send an email', 0.0],\n",
       "              ['send an e mail', 0.6666666666666666],\n",
       "              ['i send an email', 0.3333333333333333],\n",
       "              ['send an email to', 0.3333333333333333],\n",
       "              ['send an email out', 0.3333333333333333]],\n",
       "             'set an alarm': [['set an alarm', 0.0],\n",
       "              ['set and alarm', 0.3333333333333333],\n",
       "              ['set alarm', 0.3333333333333333],\n",
       "              ['set an allarme', 0.3333333333333333],\n",
       "              ['set an alarm for', 0.3333333333333333]],\n",
       "             'set out': [['set out', 0.0],\n",
       "              ['sat out', 0.5],\n",
       "              ['sent out', 0.5],\n",
       "              ['send it out', 1.0],\n",
       "              ['set it out', 0.5]],\n",
       "             'show confirmation': [['show confirmation', 0.0],\n",
       "              ['shogun information', 1.0],\n",
       "              ['shogun formation', 1.0],\n",
       "              ['show gun formation', 1.0],\n",
       "              ['shogun for may shun', 2.0]],\n",
       "             'show hints': [['show hints', 0.0],\n",
       "              ['show hintz', 0.5],\n",
       "              ['sho hints', 0.5],\n",
       "              ['show hits', 0.5],\n",
       "              ['joe hints', 0.5]],\n",
       "             'show my search history': [['show my search history', 0.0],\n",
       "              ['show me my search history', 0.25],\n",
       "              ['show my search history i', 0.25],\n",
       "              ['show my search history is', 0.25],\n",
       "              ['show my search history now', 0.25]],\n",
       "             'shut down the system': [['shut down the system', 0.0],\n",
       "              ['shutdown the system', 0.5],\n",
       "              ['i shut down the system', 0.25],\n",
       "              ['shut down the system i', 0.25],\n",
       "              [\"shut down the system 's\", 0.25]],\n",
       "             'take screenshot': [['take screenshot', 0.0],\n",
       "              ['take screen shot', 1.0],\n",
       "              ['takes screenshot', 0.5],\n",
       "              ['i take screenshot', 0.5],\n",
       "              ['take screenshots', 0.5]],\n",
       "             'tell me a joke': [['tell me a joke', 0.0],\n",
       "              ['tell me a jok', 0.25],\n",
       "              ['tell me a joke joke', 0.25],\n",
       "              ['tell me a jokes', 0.25],\n",
       "              ['tell me a joke a', 0.25]],\n",
       "             'Throw the apple into the trash can': [['through the apple into the trash can',\n",
       "               0.14285714285714285],\n",
       "              ['threw the apple into the trash can', 0.14285714285714285],\n",
       "              ['throw the apple into the trash can', 0.0],\n",
       "              ['true the apple into the trash can', 0.14285714285714285],\n",
       "              ['thru the apple into the trash can', 0.14285714285714285]],\n",
       "             'Turn off the switch': [['turn off the switch', 0.0],\n",
       "              ['turn off the switch off', 0.25],\n",
       "              ['turn off the switch on', 0.25],\n",
       "              ['turn off the switch i', 0.25],\n",
       "              ['turn off the switch it', 0.25]],\n",
       "             'turn off voice control': [['turn off voice control', 0.0],\n",
       "              ['turn off voice controle', 0.25],\n",
       "              ['turn off the voice control', 0.25],\n",
       "              ['turn off voice controll', 0.25],\n",
       "              ['turn off voice control it', 0.25]],\n",
       "             'Turn on the switch': [['turn on the switch', 0.0],\n",
       "              ['turn on the speech', 0.25],\n",
       "              ['turn on the switch witch', 0.25],\n",
       "              ['turn on the switch which', 0.25],\n",
       "              ['turn on the switch e', 0.25]],\n",
       "             'turn up volume': [['turn up volume', 0.0],\n",
       "              ['turn up volum', 0.3333333333333333],\n",
       "              [\"don't know volume\", 0.6666666666666666],\n",
       "              ['turn up volume up', 0.3333333333333333],\n",
       "              ['turn up volume two', 0.3333333333333333]],\n",
       "             'watch titanic': [['watch titanic', 0.0],\n",
       "              ['i watch titanic', 0.5],\n",
       "              ['watch thai tanic', 1.0],\n",
       "              [\"watch titanic 's\", 0.5],\n",
       "              ['watch titanic oh', 0.5]]})"
      ]
     },
     "execution_count": 40,
     "metadata": {},
     "output_type": "execute_result"
    }
   ],
   "source": [
    "word_error = collections.defaultdict(list)\n",
    "for key in command_predictions:\n",
    "    for i in range(len(command_predictions[key])):\n",
    "        word_error[key].append([command_predictions[key][i][0],wer(key.lower(), command_predictions[key][i][0])])\n",
    "word_error"
   ]
  },
  {
   "cell_type": "code",
   "execution_count": 26,
   "metadata": {},
   "outputs": [],
   "source": [
    "keys = word_error_rate.keys()"
   ]
  },
  {
   "cell_type": "code",
   "execution_count": 36,
   "metadata": {},
   "outputs": [
    {
     "name": "stdout",
     "output_type": "stream",
     "text": [
      "0.9856115107913669\n"
     ]
    }
   ],
   "source": [
    "correctly = 0\n",
    "total = 0\n",
    "for key in keys:\n",
    "    a = key[0].split()\n",
    "    b = key[1].split()\n",
    "    correct = 0\n",
    "    for ele in a:\n",
    "        if ele in b:\n",
    "            correct+=1\n",
    "    correctly+=correct\n",
    "    total += (len(a))\n",
    "total_correct = correctly/total\n",
    "print(total_correct)"
   ]
  },
  {
   "cell_type": "code",
   "execution_count": 43,
   "metadata": {},
   "outputs": [
    {
     "data": {
      "text/plain": [
       "defaultdict(list,\n",
       "            {'Bring me some water': ['bring me some water', 0.0],\n",
       "             'Bring the cup to me': ['bring the cup to me', 0.0],\n",
       "             'Bring the spoon closer': ['bring the spoon closer', 0.0],\n",
       "             'close the browser': ['loses the browser', 0.3333333333333333],\n",
       "             'Close the door': ['close the door', 0.0],\n",
       "             'copy the folder': ['copy the folder', 0.0],\n",
       "             'create calendar event': ['create calendar event', 0.0],\n",
       "             'drill down': ['drill down', 0.0],\n",
       "             'Get me some pepper': ['get me some pepper', 0.0],\n",
       "             'Get me some salt': ['get me some salt', 0.0],\n",
       "             'Get me the blue cup': ['get me the blue cup', 0.0],\n",
       "             'Get the milk from the fridge': ['get the milk from the fridge',\n",
       "              0.0],\n",
       "             'Get the pen from the drawer': ['get the pen from the drawer',\n",
       "              0.0],\n",
       "             'go back': ['go back', 0.0],\n",
       "             'go forward': ['go forward', 0.0],\n",
       "             'go home': ['go home', 0.0],\n",
       "             'Hold the door open': ['hold the door open', 0.0],\n",
       "             'invite for a meeting': ['invite for a meeting', 0.0],\n",
       "             'Move the cup to the left of the bowl': ['move the cup to the left of the bowl',\n",
       "              0.0],\n",
       "             'Move the cup to the right': ['move the cup to the right', 0.0],\n",
       "             'Move to the left': ['move to the left', 0.0],\n",
       "             'Move to the right': ['move to the right', 0.0],\n",
       "             'Navigate to place': ['navigate to place', 0.0],\n",
       "             'nearest coffee shop': ['nearest coffee shop', 0.0],\n",
       "             'next slide': ['next slide', 0.0],\n",
       "             'open control center': ['open control center', 0.0],\n",
       "             'open privacy settings': ['open privacy settings', 0.0],\n",
       "             'Open the box': ['open the box', 0.0],\n",
       "             'open window': ['open window', 0.0],\n",
       "             'open youtube': ['open youtube', 0.0],\n",
       "             'Pick up the bowl and place it in front of the cheez-it box': ['pick up the bowl and place it in front of the cheez-it box',\n",
       "              0.0],\n",
       "             'Pick up the cup and place it on top of the table': ['pick up the cup and place it on the top of the table',\n",
       "              0.08333333333333333],\n",
       "             'Pick up the spoon': ['pick up the spoon', 0.0],\n",
       "             'Pick up the spoon and place it next to the bowl': ['pick up the spoon and place it next to the bowl',\n",
       "              0.0],\n",
       "             'Place the book in the drawer': ['place the book in the drawer',\n",
       "              0.0],\n",
       "             'Place the book in the shelf': ['place the book in the shelf',\n",
       "              0.0],\n",
       "             'Place the bowl in front of me': ['place the bowl in front of me',\n",
       "              0.0],\n",
       "             'Place the dish in the dishwasher': ['place the dish in the dishwasher',\n",
       "              0.0],\n",
       "             'Place the dishes in the dish rack': ['place the dishes in the dish rack',\n",
       "              0.0],\n",
       "             'Place the mug in the sink': ['place the mug in the sink', 0.0],\n",
       "             'Place the plate on the table': ['place the plate on the table',\n",
       "              0.0],\n",
       "             'play a song': ['play a song', 0.0],\n",
       "             'Pour some cereal into the bowl': ['pour some cereal into the bowl',\n",
       "              0.0],\n",
       "             'Pour some juice into the cup': ['pour some juice into the cup',\n",
       "              0.0],\n",
       "             'Pour some water into the cup': ['pour some water into the cup',\n",
       "              0.0],\n",
       "             'print document': ['print document', 0.0],\n",
       "             'remind me to go to party': ['remind me to go to party', 0.0],\n",
       "             'restart computer': ['restart computer', 0.0],\n",
       "             'search on google': ['search on google', 0.0],\n",
       "             'send an email': ['send an email', 0.0],\n",
       "             'set an alarm': ['set an alarm', 0.0],\n",
       "             'set out': ['set out', 0.0],\n",
       "             'show confirmation': ['show confirmation', 0.0],\n",
       "             'show hints': ['show hints', 0.0],\n",
       "             'show my search history': ['show my search history', 0.0],\n",
       "             'shut down the system': ['shut down the system', 0.0],\n",
       "             'take screenshot': ['take screenshot', 0.0],\n",
       "             'tell me a joke': ['tell me a joke', 0.0],\n",
       "             'Throw the apple into the trash can': ['throw the apple into the trash can',\n",
       "              0.0],\n",
       "             'Turn off the switch': ['turn off the switch', 0.0],\n",
       "             'turn off voice control': ['turn off voice control', 0.0],\n",
       "             'Turn on the switch': ['turn on the switch', 0.0],\n",
       "             'turn up volume': ['turn up volume', 0.0],\n",
       "             'watch titanic': ['watch titanic', 0.0]})"
      ]
     },
     "execution_count": 43,
     "metadata": {},
     "output_type": "execute_result"
    }
   ],
   "source": [
    "min_error = float('inf')\n",
    "word_error = collections.defaultdict(list)\n",
    "for key in command_predictions:\n",
    "    min_error = float(\"inf\")\n",
    "    for i in range(len(command_predictions[key])):\n",
    "        if wer(key.lower(), command_predictions[key][i][0])< min_error:\n",
    "            min_error = wer(key.lower(), command_predictions[key][i][0])\n",
    "            error_rate = wer(key.lower(), command_predictions[key][i][0])\n",
    "            phrase = command_predictions[key][i][0]\n",
    "    word_error[key] = [phrase, error_rate]\n",
    "#         word_error[key].append([command_predictions[key][i],wer(key.lower(), command_predictions[key][i])])\n",
    "word_error"
   ]
  },
  {
   "cell_type": "code",
   "execution_count": 44,
   "metadata": {},
   "outputs": [
    {
     "name": "stdout",
     "output_type": "stream",
     "text": [
      "0.96875\n"
     ]
    }
   ],
   "source": [
    "count=0\n",
    "for key in word_error.keys():\n",
    "    trimmed_command = word_error[key][0].strip().lower()\n",
    "    \n",
    "    actual = key.strip().lower()\n",
    "    if actual == trimmed_command:\n",
    "        count+=1\n",
    "new_accuracy = count/64\n",
    "print(new_accuracy)"
   ]
  },
  {
   "cell_type": "code",
   "execution_count": null,
   "metadata": {},
   "outputs": [],
   "source": []
  }
 ],
 "metadata": {
  "colab": {
   "collapsed_sections": [],
   "name": "MicrosoftAzureRecognizer.ipynb",
   "provenance": []
  },
  "kernelspec": {
   "display_name": "Python 3",
   "language": "python",
   "name": "python3"
  },
  "language_info": {
   "codemirror_mode": {
    "name": "ipython",
    "version": 3
   },
   "file_extension": ".py",
   "mimetype": "text/x-python",
   "name": "python",
   "nbconvert_exporter": "python",
   "pygments_lexer": "ipython3",
   "version": "3.8.5"
  }
 },
 "nbformat": 4,
 "nbformat_minor": 1
}
