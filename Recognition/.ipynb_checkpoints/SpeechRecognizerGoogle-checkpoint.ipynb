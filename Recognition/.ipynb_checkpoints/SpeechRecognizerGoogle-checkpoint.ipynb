{
 "cells": [
  {
   "cell_type": "code",
   "execution_count": 1,
   "metadata": {
    "colab": {
     "base_uri": "https://localhost:8080/"
    },
    "executionInfo": {
     "elapsed": 20752,
     "status": "ok",
     "timestamp": 1631137641825,
     "user": {
      "displayName": "Irfan Ahmed",
      "photoUrl": "",
      "userId": "11817801716997687338"
     },
     "user_tz": 240
    },
    "id": "ecGwVW3lkI0Y",
    "outputId": "3edf4dfa-ced7-4bec-ea41-44083d0ed897"
   },
   "outputs": [
    {
     "name": "stdout",
     "output_type": "stream",
     "text": [
      "Mounted at /content/gdrive\n"
     ]
    }
   ],
   "source": [
    "from google.colab import drive\n",
    "drive.mount('/content/gdrive')"
   ]
  },
  {
   "cell_type": "code",
   "execution_count": 2,
   "metadata": {
    "colab": {
     "base_uri": "https://localhost:8080/"
    },
    "executionInfo": {
     "elapsed": 183,
     "status": "ok",
     "timestamp": 1631137910140,
     "user": {
      "displayName": "Irfan Ahmed",
      "photoUrl": "",
      "userId": "11817801716997687338"
     },
     "user_tz": 240
    },
    "id": "xVQrH7GAkdWd",
    "outputId": "cff260a8-6bfa-41c9-a6a5-82e9fd82bd92"
   },
   "outputs": [
    {
     "name": "stdout",
     "output_type": "stream",
     "text": [
      "/content/gdrive/Shareddrives/Audio-Recorder\n"
     ]
    }
   ],
   "source": [
    "%cd /content/gdrive/Shareddrives/Audio-Recorder/"
   ]
  },
  {
   "cell_type": "code",
   "execution_count": 3,
   "metadata": {
    "colab": {
     "base_uri": "https://localhost:8080/"
    },
    "executionInfo": {
     "elapsed": 792,
     "status": "ok",
     "timestamp": 1631137912203,
     "user": {
      "displayName": "Irfan Ahmed",
      "photoUrl": "",
      "userId": "11817801716997687338"
     },
     "user_tz": 240
    },
    "id": "yrf5d_GUdBE5",
    "outputId": "1002c568-9293-4ea0-bd60-3f01a917e79a"
   },
   "outputs": [
    {
     "name": "stdout",
     "output_type": "stream",
     "text": [
      "'AudioRecorder User MetaData.gform'\t        MicrosoftAzureRecognizer.ipynb\n",
      "'Audio Recorder Web App User MetaData.gsheet'   SpeechRecognizerGoogle.ipynb\n",
      " fetch\t\t\t\t\t        uploads\n"
     ]
    }
   ],
   "source": [
    "!ls"
   ]
  },
  {
   "cell_type": "code",
   "execution_count": 1,
   "metadata": {
    "colab": {
     "base_uri": "https://localhost:8080/"
    },
    "executionInfo": {
     "elapsed": 7532,
     "status": "ok",
     "timestamp": 1631137921179,
     "user": {
      "displayName": "Irfan Ahmed",
      "photoUrl": "",
      "userId": "11817801716997687338"
     },
     "user_tz": 240
    },
    "id": "220bjH2Im2hp",
    "outputId": "f1a177e9-298a-4ac8-efcb-ed59bb5601a7"
   },
   "outputs": [
    {
     "name": "stdout",
     "output_type": "stream",
     "text": [
      "Collecting SpeechRecognition\n",
      "  Downloading SpeechRecognition-3.8.1-py2.py3-none-any.whl (32.8 MB)\n",
      "Installing collected packages: SpeechRecognition\n",
      "Successfully installed SpeechRecognition-3.8.1\n"
     ]
    }
   ],
   "source": [
    "!pip install SpeechRecognition"
   ]
  },
  {
   "cell_type": "code",
   "execution_count": 2,
   "metadata": {
    "colab": {
     "base_uri": "https://localhost:8080/",
     "height": 35
    },
    "executionInfo": {
     "elapsed": 22,
     "status": "ok",
     "timestamp": 1631137921181,
     "user": {
      "displayName": "Irfan Ahmed",
      "photoUrl": "",
      "userId": "11817801716997687338"
     },
     "user_tz": 240
    },
    "id": "ifZSApcGklfo",
    "outputId": "7285c56c-a961-469b-81e5-1af9147cc1bc"
   },
   "outputs": [
    {
     "data": {
      "text/plain": [
       "'3.8.1'"
      ]
     },
     "execution_count": 2,
     "metadata": {},
     "output_type": "execute_result"
    }
   ],
   "source": [
    "import speech_recognition as sr #speech recognition library\n",
    "import glob, os #To access audio files from drive\n",
    "sr.__version__"
   ]
  },
  {
   "cell_type": "code",
   "execution_count": 4,
   "metadata": {},
   "outputs": [
    {
     "name": "stdout",
     "output_type": "stream",
     "text": [
      "Collecting librosa\n",
      "  Downloading librosa-0.9.0-py3-none-any.whl (211 kB)\n",
      "Requirement already satisfied: numpy>=1.17.0 in c:\\users\\shali\\anaconda3\\envs\\work\\lib\\site-packages (from librosa) (1.18.5)\n",
      "Requirement already satisfied: packaging>=20.0 in c:\\users\\shali\\anaconda3\\envs\\work\\lib\\site-packages (from librosa) (20.9)\n",
      "Requirement already satisfied: scikit-learn>=0.19.1 in c:\\users\\shali\\anaconda3\\envs\\work\\lib\\site-packages (from librosa) (0.24.1)\n",
      "Requirement already satisfied: joblib>=0.14 in c:\\users\\shali\\anaconda3\\envs\\work\\lib\\site-packages (from librosa) (1.0.1)\n",
      "Requirement already satisfied: scipy>=1.2.0 in c:\\users\\shali\\anaconda3\\envs\\work\\lib\\site-packages (from librosa) (1.4.1)\n",
      "Requirement already satisfied: decorator>=4.0.10 in c:\\users\\shali\\anaconda3\\envs\\work\\lib\\site-packages (from librosa) (4.4.2)\n",
      "Collecting audioread>=2.1.5\n",
      "  Downloading audioread-2.1.9.tar.gz (377 kB)\n",
      "Collecting numba>=0.45.1\n",
      "  Downloading numba-0.55.1-cp38-cp38-win_amd64.whl (2.4 MB)\n",
      "Requirement already satisfied: setuptools in c:\\users\\shali\\anaconda3\\envs\\work\\lib\\site-packages (from numba>=0.45.1->librosa) (51.0.0.post20201207)\n",
      "Collecting llvmlite<0.39,>=0.38.0rc1\n",
      "  Downloading llvmlite-0.38.0-cp38-cp38-win_amd64.whl (23.2 MB)\n",
      "Requirement already satisfied: pyparsing>=2.0.2 in c:\\users\\shali\\anaconda3\\envs\\work\\lib\\site-packages (from packaging>=20.0->librosa) (2.4.7)\n",
      "Collecting pooch>=1.0\n",
      "  Downloading pooch-1.6.0-py3-none-any.whl (56 kB)\n",
      "Requirement already satisfied: requests>=2.19.0 in c:\\users\\shali\\anaconda3\\envs\\work\\lib\\site-packages (from pooch>=1.0->librosa) (2.25.1)\n",
      "Requirement already satisfied: appdirs>=1.3.0 in c:\\users\\shali\\anaconda3\\envs\\work\\lib\\site-packages (from pooch>=1.0->librosa) (1.4.4)\n",
      "Requirement already satisfied: chardet<5,>=3.0.2 in c:\\users\\shali\\anaconda3\\envs\\work\\lib\\site-packages (from requests>=2.19.0->pooch>=1.0->librosa) (4.0.0)\n",
      "Requirement already satisfied: urllib3<1.27,>=1.21.1 in c:\\users\\shali\\anaconda3\\envs\\work\\lib\\site-packages (from requests>=2.19.0->pooch>=1.0->librosa) (1.26.4)\n",
      "Requirement already satisfied: idna<3,>=2.5 in c:\\users\\shali\\anaconda3\\envs\\work\\lib\\site-packages (from requests>=2.19.0->pooch>=1.0->librosa) (2.10)\n",
      "Requirement already satisfied: certifi>=2017.4.17 in c:\\users\\shali\\anaconda3\\envs\\work\\lib\\site-packages (from requests>=2.19.0->pooch>=1.0->librosa) (2021.5.30)\n",
      "Collecting resampy>=0.2.2\n",
      "  Downloading resampy-0.2.2.tar.gz (323 kB)\n",
      "Requirement already satisfied: six>=1.3 in c:\\users\\shali\\anaconda3\\envs\\work\\lib\\site-packages (from resampy>=0.2.2->librosa) (1.15.0)\n",
      "Requirement already satisfied: threadpoolctl>=2.0.0 in c:\\users\\shali\\anaconda3\\envs\\work\\lib\\site-packages (from scikit-learn>=0.19.1->librosa) (2.1.0)\n",
      "Collecting soundfile>=0.10.2\n",
      "  Downloading SoundFile-0.10.3.post1-py2.py3.cp26.cp27.cp32.cp33.cp34.cp35.cp36.pp27.pp32.pp33-none-win_amd64.whl (689 kB)\n",
      "Requirement already satisfied: cffi>=1.0 in c:\\users\\shali\\anaconda3\\envs\\work\\lib\\site-packages (from soundfile>=0.10.2->librosa) (1.14.5)\n",
      "Requirement already satisfied: pycparser in c:\\users\\shali\\anaconda3\\envs\\work\\lib\\site-packages (from cffi>=1.0->soundfile>=0.10.2->librosa) (2.20)\n",
      "Building wheels for collected packages: audioread, resampy\n",
      "  Building wheel for audioread (setup.py): started\n",
      "  Building wheel for audioread (setup.py): finished with status 'done'\n",
      "  Created wheel for audioread: filename=audioread-2.1.9-py3-none-any.whl size=23141 sha256=1daaf4402f7dddce31f68b5b1e6fd64370b81b2ea16f1b13c9ec69a5cc247700\n",
      "  Stored in directory: c:\\users\\shali\\appdata\\local\\pip\\cache\\wheels\\49\\5a\\e4\\df590783499a992a88de6c0898991d1167453a3196d0d1eeb7\n",
      "  Building wheel for resampy (setup.py): started\n",
      "  Building wheel for resampy (setup.py): finished with status 'done'\n",
      "  Created wheel for resampy: filename=resampy-0.2.2-py3-none-any.whl size=320718 sha256=b1c712ebfb88b239cc15e3c64ca39c7e99b0bdb366436ce517b56f616c82c7aa\n",
      "  Stored in directory: c:\\users\\shali\\appdata\\local\\pip\\cache\\wheels\\6f\\d1\\5d\\f13da53b1dcbc2624ff548456c9ffb526c914f53c12c318bb4\n",
      "Successfully built audioread resampy\n",
      "Installing collected packages: llvmlite, numba, soundfile, resampy, pooch, audioread, librosa\n",
      "Successfully installed audioread-2.1.9 librosa-0.9.0 llvmlite-0.38.0 numba-0.55.1 pooch-1.6.0 resampy-0.2.2 soundfile-0.10.3.post1\n"
     ]
    }
   ],
   "source": [
    "!pip install librosa"
   ]
  },
  {
   "cell_type": "code",
   "execution_count": 5,
   "metadata": {
    "executionInfo": {
     "elapsed": 3393,
     "status": "ok",
     "timestamp": 1631137924561,
     "user": {
      "displayName": "Irfan Ahmed",
      "photoUrl": "",
      "userId": "11817801716997687338"
     },
     "user_tz": 240
    },
    "id": "wQEQHu23pLC-"
   },
   "outputs": [],
   "source": [
    "import librosa\n",
    "import soundfile as sf"
   ]
  },
  {
   "cell_type": "code",
   "execution_count": 6,
   "metadata": {
    "executionInfo": {
     "elapsed": 28,
     "status": "ok",
     "timestamp": 1631137924564,
     "user": {
      "displayName": "Irfan Ahmed",
      "photoUrl": "",
      "userId": "11817801716997687338"
     },
     "user_tz": 240
    },
    "id": "ZnR3tkbSlKh2"
   },
   "outputs": [],
   "source": [
    "def audioRecognizer(audiofile,myList): \n",
    "    r = sr.Recognizer()\n",
    "    audioFile = sr.AudioFile(audiofile)\n",
    "    #print(audioFile)\n",
    "\n",
    "    with audioFile as source:\n",
    "        audio = r.record(audioFile)\n",
    "\n",
    "    try:\n",
    "        message = r.recognize_google(audio, language = 'en-US', show_all = True)\n",
    "        print(message)\n",
    "        myList.append(message)\n",
    "    except Exception:\n",
    "        print(\"Error\")\n",
    "        myList.append(\"Error\")"
   ]
  },
  {
   "cell_type": "code",
   "execution_count": 7,
   "metadata": {
    "colab": {
     "base_uri": "https://localhost:8080/"
    },
    "executionInfo": {
     "elapsed": 26,
     "status": "ok",
     "timestamp": 1631137924566,
     "user": {
      "displayName": "Irfan Ahmed",
      "photoUrl": "",
      "userId": "11817801716997687338"
     },
     "user_tz": 240
    },
    "id": "Mxsr3J4inPIO",
    "outputId": "81cfb9e1-d967-4803-c257-d2eb6ddc016c"
   },
   "outputs": [
    {
     "name": "stdout",
     "output_type": "stream",
     "text": [
      "D:\\Stony Brook Courses\\CSE523\\Recognition\\fetch\\uploads\n"
     ]
    }
   ],
   "source": [
    "%cd \"D:\\Stony Brook Courses\\CSE523\\Recognition\\fetch\\uploads\\\""
   ]
  },
  {
   "cell_type": "code",
   "execution_count": 8,
   "metadata": {
    "colab": {
     "base_uri": "https://localhost:8080/"
    },
    "executionInfo": {
     "elapsed": 35662,
     "status": "ok",
     "timestamp": 1631138170586,
     "user": {
      "displayName": "Irfan Ahmed",
      "photoUrl": "",
      "userId": "11817801716997687338"
     },
     "user_tz": 240
    },
    "id": "NqWIrnD4ci2I",
    "outputId": "c8689093-1053-4a3e-a1c4-711b51467c13"
   },
   "outputs": [],
   "source": [
    "cwd = os.getcwd()\n",
    "TotalDict = {}\n",
    "for user in os.listdir(): # list of users\n",
    "  userDict = {}\n",
    "  if user.__contains__(\"7049d9bd-fda2-413e-af00-ac50a3e9b463\"):\n",
    "    for command in glob.glob(os.path.join(cwd,user, \"*/\")):\n",
    "      if(os.path.isdir(command)):\n",
    "        commandList = []\n",
    "        for file in glob.glob(os.path.join(cwd,command,\"*.wav\")):\n",
    "          audioRecognizer(file,commandList)\n",
    "      userDict[command] = commandList\n",
    "    TotalDict[user] = userDict"
   ]
  },
  {
   "cell_type": "code",
   "execution_count": 9,
   "metadata": {
    "colab": {
     "base_uri": "https://localhost:8080/"
    },
    "executionInfo": {
     "elapsed": 142,
     "status": "ok",
     "timestamp": 1631138176846,
     "user": {
      "displayName": "Irfan Ahmed",
      "photoUrl": "",
      "userId": "11817801716997687338"
     },
     "user_tz": 240
    },
    "id": "O3L4bpKGp-MP",
    "outputId": "071c87d3-c259-4cf6-b009-e534e1dbd199"
   },
   "outputs": [
    {
     "data": {
      "text/plain": [
       "{}"
      ]
     },
     "execution_count": 9,
     "metadata": {},
     "output_type": "execute_result"
    }
   ],
   "source": [
    "TotalDict"
   ]
  },
  {
   "cell_type": "code",
   "execution_count": 18,
   "metadata": {
    "executionInfo": {
     "elapsed": 155,
     "status": "ok",
     "timestamp": 1631138188945,
     "user": {
      "displayName": "Irfan Ahmed",
      "photoUrl": "",
      "userId": "11817801716997687338"
     },
     "user_tz": 240
    },
    "id": "WGyU0Fp2o8uH"
   },
   "outputs": [],
   "source": [
    "FinalTotalDict = {}\n",
    "for user in TotalDict.keys():\n",
    "  userDict = {}\n",
    "  for command in TotalDict[user].keys():\n",
    "    command_ = command[command.find(user) + len(user): ][1:-1]\n",
    "    userDict[command_] = TotalDict[user][command]\n",
    "  FinalTotalDict[user] = userDict\n",
    "    \n"
   ]
  },
  {
   "cell_type": "code",
   "execution_count": 19,
   "metadata": {
    "executionInfo": {
     "elapsed": 185,
     "status": "ok",
     "timestamp": 1631138195817,
     "user": {
      "displayName": "Irfan Ahmed",
      "photoUrl": "",
      "userId": "11817801716997687338"
     },
     "user_tz": 240
    },
    "id": "ZFlQa8sIqRu3"
   },
   "outputs": [],
   "source": [
    "CountDict = {}\n",
    "for user in FinalTotalDict.keys():\n",
    "  count = 0\n",
    "  for command in FinalTotalDict[user].keys():\n",
    "    trimmedCommand = command.strip().lower()\n",
    "    for trial in FinalTotalDict[user][command]:\n",
    "      if len(trial) != 0:\n",
    "        speechResult = trial['alternative'][0]['transcript'].lower()\n",
    "        if speechResult == trimmedCommand:\n",
    "          count+=1\n",
    "    \n",
    "  CountDict[user] = count\n",
    "\n",
    "\n",
    "\n"
   ]
  },
  {
   "cell_type": "code",
   "execution_count": 20,
   "metadata": {
    "colab": {
     "base_uri": "https://localhost:8080/"
    },
    "executionInfo": {
     "elapsed": 132,
     "status": "ok",
     "timestamp": 1631138198061,
     "user": {
      "displayName": "Irfan Ahmed",
      "photoUrl": "",
      "userId": "11817801716997687338"
     },
     "user_tz": 240
    },
    "id": "NhWDKSMqo0eF",
    "outputId": "ac3027ee-939b-4b84-f58b-579c9e36a44a"
   },
   "outputs": [
    {
     "data": {
      "text/plain": [
       "{'7049d9bd-fda2-413e-af00-ac50a3e9b463': 65}"
      ]
     },
     "execution_count": 20,
     "metadata": {},
     "output_type": "execute_result"
    }
   ],
   "source": [
    "CountDict"
   ]
  },
  {
   "cell_type": "code",
   "execution_count": 21,
   "metadata": {
    "colab": {
     "base_uri": "https://localhost:8080/"
    },
    "executionInfo": {
     "elapsed": 139,
     "status": "ok",
     "timestamp": 1631138203539,
     "user": {
      "displayName": "Irfan Ahmed",
      "photoUrl": "",
      "userId": "11817801716997687338"
     },
     "user_tz": 240
    },
    "id": "MC1kWT7frNNQ",
    "outputId": "dbcfb850-1a90-454e-a708-99e2974f4db2"
   },
   "outputs": [
    {
     "name": "stdout",
     "output_type": "stream",
     "text": [
      "Accuracy :  0.6770833333333334\n"
     ]
    }
   ],
   "source": [
    "sum = 0\n",
    "for count in CountDict.keys():\n",
    "  sum+= CountDict[count]\n",
    "\n",
    "total = 96 * len(CountDict)\n",
    "\n",
    "## (Total number of audio files  = 96 x # of users)\n",
    "\n",
    "print(\"Accuracy : \" , sum/total)"
   ]
  },
  {
   "cell_type": "code",
   "execution_count": 22,
   "metadata": {
    "colab": {
     "base_uri": "https://localhost:8080/"
    },
    "executionInfo": {
     "elapsed": 128,
     "status": "ok",
     "timestamp": 1631138227596,
     "user": {
      "displayName": "Irfan Ahmed",
      "photoUrl": "",
      "userId": "11817801716997687338"
     },
     "user_tz": 240
    },
    "id": "PC0Bm3woahIC",
    "outputId": "1a1b808d-fcf7-44e3-b0dd-a095f6639ae6"
   },
   "outputs": [
    {
     "data": {
      "text/plain": [
       "{'7049d9bd-fda2-413e-af00-ac50a3e9b463': {'Navigate to place': [{'alternative': [{'confidence': 0.75747585,\n",
       "      'transcript': 'navigate to Fresh'},\n",
       "     {'transcript': 'navigate to place'},\n",
       "     {'transcript': 'navigate to Bryce'},\n",
       "     {'transcript': 'navigate to Bliss'},\n",
       "     {'transcript': 'navigate to brush'}],\n",
       "    'final': True},\n",
       "   {'alternative': [{'confidence': 0.98762912,\n",
       "      'transcript': 'navigate to place'}],\n",
       "    'final': True},\n",
       "   {'alternative': [{'confidence': 0.98762912,\n",
       "      'transcript': 'navigate to place'}],\n",
       "    'final': True}],\n",
       "  'close the browser': [{'alternative': [{'confidence': 0.98762912,\n",
       "      'transcript': 'close the browser'}],\n",
       "    'final': True},\n",
       "   {'alternative': [{'confidence': 0.70805633, 'transcript': 'the browser'},\n",
       "     {'transcript': 'browser'},\n",
       "     {'transcript': 'first browser'},\n",
       "     {'transcript': 'Oster browser'},\n",
       "     {'transcript': 'mr. browser'}],\n",
       "    'final': True},\n",
       "   {'alternative': [{'confidence': 0.52802306, 'transcript': 'the browser'},\n",
       "     {'transcript': 'rooster browser'},\n",
       "     {'transcript': 'browser'},\n",
       "     {'transcript': 'search the browser'},\n",
       "     {'transcript': 'Brewster browser'}],\n",
       "    'final': True}],\n",
       "  'copy the folder': [{'alternative': [{'confidence': 0.89443463,\n",
       "      'transcript': 'copies of soldier'},\n",
       "     {'transcript': 'copies of solder'},\n",
       "     {'transcript': 'copies of shoulder'},\n",
       "     {'transcript': 'countries of soldier'},\n",
       "     {'transcript': 'copies are Soldier'}],\n",
       "    'final': True},\n",
       "   [],\n",
       "   {'alternative': [{'confidence': 0.73971683,\n",
       "      'transcript': 'copies of solder'},\n",
       "     {'transcript': 'copies of folder'},\n",
       "     {'transcript': 'copies of holder'},\n",
       "     {'transcript': 'copies of older'},\n",
       "     {'transcript': 'copies of Boulder'}],\n",
       "    'final': True}],\n",
       "  'create calendar event': [{'alternative': [{'confidence': 0.98762912,\n",
       "      'transcript': 'create calendar event'}],\n",
       "    'final': True},\n",
       "   {'alternative': [{'confidence': 0.98762912,\n",
       "      'transcript': 'create calendar event'}],\n",
       "    'final': True},\n",
       "   {'alternative': [{'confidence': 0.96640509,\n",
       "      'transcript': 'create calendar event'},\n",
       "     {'transcript': 'create calendar'},\n",
       "     {'transcript': 'create calendar events'}],\n",
       "    'final': True}],\n",
       "  'drill down': [{'alternative': [{'confidence': 0.65687394,\n",
       "      'transcript': 'Trill down'},\n",
       "     {'transcript': 'tribtown'},\n",
       "     {'transcript': 'drill down'},\n",
       "     {'transcript': 'Trail down'}],\n",
       "    'final': True},\n",
       "   [],\n",
       "   {'alternative': [{'confidence': 0.54893577, 'transcript': 'drill down'},\n",
       "     {'transcript': 'drill-down'},\n",
       "     {'transcript': 'drilled down'},\n",
       "     {'transcript': 'Dru Down'},\n",
       "     {'transcript': 'Trill down'}],\n",
       "    'final': True}],\n",
       "  'go back': [{'alternative': [{'confidence': 0.93321157,\n",
       "      'transcript': 'go back'},\n",
       "     {'transcript': 'go back.'},\n",
       "     {'transcript': 'go bad'}],\n",
       "    'final': True},\n",
       "   [],\n",
       "   {'alternative': [{'confidence': 0.81213862, 'transcript': 'correct'},\n",
       "     {'transcript': 'Direct'}],\n",
       "    'final': True}],\n",
       "  'go forward': [{'alternative': [{'confidence': 0.72153294,\n",
       "      'transcript': \"I'm sorry\"},\n",
       "     {'transcript': 'so sorry'},\n",
       "     {'transcript': 'sorry'},\n",
       "     {'transcript': 'call Sari'},\n",
       "     {'transcript': 'call sorry'}],\n",
       "    'final': True},\n",
       "   {'alternative': [{'confidence': 0.81693816, 'transcript': 'go forward'},\n",
       "     {'transcript': 'go-forward'}],\n",
       "    'final': True},\n",
       "   {'alternative': [{'confidence': 0.81703234, 'transcript': 'go forward'},\n",
       "     {'transcript': 'go-forward'}],\n",
       "    'final': True}],\n",
       "  'go home': [{'alternative': [{'confidence': 0.80168104,\n",
       "      'transcript': 'go home'},\n",
       "     {'transcript': 'call home'},\n",
       "     {'transcript': 'come home'}],\n",
       "    'final': True},\n",
       "   {'alternative': [{'confidence': 0.98762906, 'transcript': 'go home'}],\n",
       "    'final': True},\n",
       "   {'alternative': [{'confidence': 0.98762906, 'transcript': 'go home'}],\n",
       "    'final': True}],\n",
       "  'invite for a meeting': [{'alternative': [{'confidence': 0.82606095,\n",
       "      'transcript': 'invite free music'},\n",
       "     {'transcript': 'invites free music'},\n",
       "     {'transcript': 'Android free music'},\n",
       "     {'transcript': 'invite Bri music'}],\n",
       "    'final': True},\n",
       "   {'alternative': [{'confidence': 0.67861807, 'transcript': 'free music'},\n",
       "     {'transcript': 'invites free music'},\n",
       "     {'transcript': \"evite's free music\"},\n",
       "     {'transcript': 'your rights free music'},\n",
       "     {'transcript': 'invite free music'}],\n",
       "    'final': True},\n",
       "   {'alternative': [{'confidence': 0.78967309,\n",
       "      'transcript': 'invite free music'},\n",
       "     {'transcript': 'free music'},\n",
       "     {'transcript': 'Inside Story music'},\n",
       "     {'transcript': 'inside free music'},\n",
       "     {'transcript': 'invite for a music'}],\n",
       "    'final': True}],\n",
       "  'nearest coffee shop': [{'alternative': [{'confidence': 0.98762912,\n",
       "      'transcript': 'nearest coffee shop'}],\n",
       "    'final': True},\n",
       "   {'alternative': [{'confidence': 0.98762912,\n",
       "      'transcript': 'nearest coffee shop'}],\n",
       "    'final': True},\n",
       "   {'alternative': [{'confidence': 0.96934181,\n",
       "      'transcript': 'nearest coffee shop'},\n",
       "     {'transcript': 'nearest coffee shops'}],\n",
       "    'final': True}],\n",
       "  'next slide': [[],\n",
       "   {'alternative': [{'confidence': 0.94914651, 'transcript': 'next slide'},\n",
       "     {'transcript': 'next side'}],\n",
       "    'final': True},\n",
       "   {'alternative': [{'confidence': 0.65335977, 'transcript': 'nexscard'},\n",
       "     {'transcript': 'Nexus card'},\n",
       "     {'transcript': 'next card'},\n",
       "     {'transcript': 'next spied'},\n",
       "     {'transcript': 'Next Guard'}],\n",
       "    'final': True}],\n",
       "  'open control center': [{'alternative': [{'confidence': 0.87012362,\n",
       "      'transcript': 'open control center'},\n",
       "     {'transcript': 'control center'},\n",
       "     {'transcript': 'open control Centre'},\n",
       "     {'transcript': 'in control center'},\n",
       "     {'transcript': 'can control center'}],\n",
       "    'final': True},\n",
       "   {'alternative': [{'confidence': 0.93857366,\n",
       "      'transcript': 'open control center'},\n",
       "     {'transcript': 'open control Centre'},\n",
       "     {'transcript': 'Austin control center'}],\n",
       "    'final': True},\n",
       "   {'alternative': [{'confidence': 0.96330351,\n",
       "      'transcript': 'open control center'},\n",
       "     {'transcript': 'open control Centre'}],\n",
       "    'final': True}],\n",
       "  'open privacy settings': [{'alternative': [{'confidence': 0.95392781,\n",
       "      'transcript': 'open privacy settings'},\n",
       "     {'transcript': 'privacy settings'}],\n",
       "    'final': True},\n",
       "   {'alternative': [{'confidence': 0.98762912,\n",
       "      'transcript': 'open privacy settings'}],\n",
       "    'final': True},\n",
       "   {'alternative': [{'confidence': 0.98581773,\n",
       "      'transcript': 'open privacy settings'},\n",
       "     {'transcript': 'open brightness settings'}],\n",
       "    'final': True}],\n",
       "  'open window': [{'alternative': [{'confidence': 0.88602549,\n",
       "      'transcript': 'open window'},\n",
       "     {'transcript': 'open right now'},\n",
       "     {'transcript': 'open run down'},\n",
       "     {'transcript': 'open Rundown'},\n",
       "     {'transcript': 'open range'}],\n",
       "    'final': True},\n",
       "   {'alternative': [{'confidence': 0.69370359, 'transcript': 'open window'},\n",
       "     {'transcript': 'open reminder'},\n",
       "     {'transcript': 'open'},\n",
       "     {'transcript': 'open Honda'},\n",
       "     {'transcript': 'open calendar'}],\n",
       "    'final': True},\n",
       "   {'alternative': [{'confidence': 0.89810348, 'transcript': 'open window'},\n",
       "     {'transcript': 'open ringer'},\n",
       "     {'transcript': 'open reminder'},\n",
       "     {'transcript': 'open reader'},\n",
       "     {'transcript': 'open'}],\n",
       "    'final': True}],\n",
       "  'open youtube': [{'alternative': [{'confidence': 0.98762906,\n",
       "      'transcript': 'open YouTube'}],\n",
       "    'final': True},\n",
       "   {'alternative': [{'confidence': 0.98762906, 'transcript': 'open YouTube'}],\n",
       "    'final': True},\n",
       "   {'alternative': [{'confidence': 0.71172208, 'transcript': 'open YouTube'},\n",
       "     {'transcript': 'what did you choose'},\n",
       "     {'transcript': 'or did you choose'},\n",
       "     {'transcript': 'did you choose'},\n",
       "     {'transcript': 'oh did you choose'}],\n",
       "    'final': True}],\n",
       "  'play a song': [{'alternative': [{'confidence': 0.78427202,\n",
       "      'transcript': 'play a song'},\n",
       "     {'transcript': 'play it song'}],\n",
       "    'final': True},\n",
       "   [],\n",
       "   []],\n",
       "  'print document': [{'alternative': [{'confidence': 0.93281806,\n",
       "      'transcript': 'Prince document'},\n",
       "     {'transcript': 'print document'}],\n",
       "    'final': True},\n",
       "   {'alternative': [{'confidence': 0.98762906,\n",
       "      'transcript': 'print document'}],\n",
       "    'final': True},\n",
       "   {'alternative': [{'confidence': 0.91798961, 'transcript': 'print document'},\n",
       "     {'transcript': 'printed document'}],\n",
       "    'final': True}],\n",
       "  'remind me to go to party': [{'alternative': [{'confidence': 0.98269141,\n",
       "      'transcript': 'party'},\n",
       "     {'transcript': 'a party'},\n",
       "     {'transcript': 'go to party'}],\n",
       "    'final': True},\n",
       "   {'alternative': [{'confidence': 0.95755243,\n",
       "      'transcript': 'remind me to go to party'},\n",
       "     {'transcript': 'remind me to go to a party'},\n",
       "     {'transcript': 'remind me to go to the party'}],\n",
       "    'final': True},\n",
       "   {'alternative': [{'confidence': 0.96012402,\n",
       "      'transcript': 'remind me to go to party'},\n",
       "     {'transcript': 'remind me to go to a party'},\n",
       "     {'transcript': 'remind me to go to parties'},\n",
       "     {'transcript': 'remind me to go to the party'}],\n",
       "    'final': True}],\n",
       "  'restart computer': [{'alternative': [{'confidence': 0.98762906,\n",
       "      'transcript': 'restart computer'}],\n",
       "    'final': True},\n",
       "   {'alternative': [{'confidence': 0.98762906,\n",
       "      'transcript': 'restart computer'}],\n",
       "    'final': True},\n",
       "   {'alternative': [{'confidence': 0.98762906,\n",
       "      'transcript': 'restart computer'}],\n",
       "    'final': True}],\n",
       "  'search on google': [{'alternative': [{'confidence': 0.98762912,\n",
       "      'transcript': 'search on Google'}],\n",
       "    'final': True},\n",
       "   {'alternative': [{'confidence': 0.98762912,\n",
       "      'transcript': 'search on Google'}],\n",
       "    'final': True},\n",
       "   {'alternative': [{'confidence': 0.98762912,\n",
       "      'transcript': 'search on Google'}],\n",
       "    'final': True}],\n",
       "  'send an email': [{'alternative': [{'confidence': 0.9759261,\n",
       "      'transcript': 'send an email'},\n",
       "     {'transcript': 'send an e-mail'}],\n",
       "    'final': True},\n",
       "   {'alternative': [{'confidence': 0.9759267, 'transcript': 'send an email'},\n",
       "     {'transcript': 'send an e-mail'}],\n",
       "    'final': True},\n",
       "   {'alternative': [{'confidence': 0.9759261, 'transcript': 'send an email'},\n",
       "     {'transcript': 'send an e-mail'}],\n",
       "    'final': True}],\n",
       "  'set an alarm': [{'alternative': [{'confidence': 0.98762912,\n",
       "      'transcript': 'set an alarm'}],\n",
       "    'final': True},\n",
       "   {'alternative': [{'confidence': 0.98762912, 'transcript': 'set an alarm'}],\n",
       "    'final': True},\n",
       "   {'alternative': [{'confidence': 0.98762912, 'transcript': 'set an alarm'}],\n",
       "    'final': True}],\n",
       "  'set out': [{'alternative': [{'confidence': 0.57676691,\n",
       "      'transcript': 'shut out'},\n",
       "     {'transcript': 'shutout'}],\n",
       "    'final': True},\n",
       "   {'alternative': [{'confidence': 0.59518337, 'transcript': 'shut out'},\n",
       "     {'transcript': 'shutout'},\n",
       "     {'transcript': 'shut up'},\n",
       "     {'transcript': 'shutdown'},\n",
       "     {'transcript': 'shut down'}],\n",
       "    'final': True},\n",
       "   {'alternative': [{'confidence': 0.98762906, 'transcript': 'shut up'}],\n",
       "    'final': True}],\n",
       "  'show confirmation': [{'alternative': [{'confidence': 0.88705647,\n",
       "      'transcript': 'show transformation'},\n",
       "     {'transcript': 'show confirmation'},\n",
       "     {'transcript': 'shell transformation'},\n",
       "     {'transcript': 'transformation'},\n",
       "     {'transcript': 'show conservation'}],\n",
       "    'final': True},\n",
       "   {'alternative': [{'confidence': 0.72134334,\n",
       "      'transcript': 'show confirmation'},\n",
       "     {'transcript': 'sure confirmation'},\n",
       "     {'transcript': 'should have confirmation'},\n",
       "     {'transcript': 'show conformation'},\n",
       "     {'transcript': 'sugar confirmation'}],\n",
       "    'final': True},\n",
       "   {'alternative': [{'confidence': 0.95003235,\n",
       "      'transcript': 'show confirmation'},\n",
       "     {'transcript': 'show conformation'},\n",
       "     {'transcript': 'show conservation'}],\n",
       "    'final': True}],\n",
       "  'show hints': [{'alternative': [{'confidence': 0.70598483,\n",
       "      'transcript': 'show hints'},\n",
       "     {'transcript': 'show hinge'},\n",
       "     {'transcript': 'show hands'},\n",
       "     {'transcript': 'show hens'},\n",
       "     {'transcript': 'so hence'}],\n",
       "    'final': True},\n",
       "   [],\n",
       "   {'alternative': [{'confidence': 0.83677226, 'transcript': 'show hints'},\n",
       "     {'transcript': 'Joe Hintz'},\n",
       "     {'transcript': 'show hinge'},\n",
       "     {'transcript': 'show hitch'},\n",
       "     {'transcript': 'show hits'}],\n",
       "    'final': True}],\n",
       "  'show my search history': [{'alternative': [{'confidence': 0.73089194,\n",
       "      'transcript': 'my search history'},\n",
       "     {'transcript': 'show my search history'},\n",
       "     {'transcript': 'search history'}],\n",
       "    'final': True},\n",
       "   {'alternative': [{'confidence': 0.98762906,\n",
       "      'transcript': 'show my search history'}],\n",
       "    'final': True},\n",
       "   {'alternative': [{'confidence': 0.93446416,\n",
       "      'transcript': 'show my search history'},\n",
       "     {'transcript': 'show me my search history'}],\n",
       "    'final': True}],\n",
       "  'shut down the system': [{'alternative': [{'confidence': 0.98762906,\n",
       "      'transcript': 'system'}],\n",
       "    'final': True},\n",
       "   {'alternative': [{'confidence': 0.98762906,\n",
       "      'transcript': 'shut down the system'}],\n",
       "    'final': True},\n",
       "   {'alternative': [{'confidence': 0.98762906,\n",
       "      'transcript': 'shut down the system'}],\n",
       "    'final': True}],\n",
       "  'take screenshot': [{'alternative': [{'confidence': 0.96604735,\n",
       "      'transcript': 'screenshot'},\n",
       "     {'transcript': 'cheap screenshot'},\n",
       "     {'transcript': 'chips screenshot'},\n",
       "     {'transcript': 'chip screenshot'},\n",
       "     {'transcript': 'screen shot'}],\n",
       "    'final': True},\n",
       "   {'alternative': [{'confidence': 0.8584097, 'transcript': 'screenshot'},\n",
       "     {'transcript': 'search screenshot'},\n",
       "     {'transcript': 'chips screenshot'},\n",
       "     {'transcript': 'screen shot'}],\n",
       "    'final': True},\n",
       "   {'alternative': [{'confidence': 0.81192034, 'transcript': 'screenshot'},\n",
       "     {'transcript': 'chick screenshot'},\n",
       "     {'transcript': 'chicks screenshot'},\n",
       "     {'transcript': 'big screenshot'},\n",
       "     {'transcript': 'six screenshot'}],\n",
       "    'final': True}],\n",
       "  'tell me a joke': [{'alternative': [{'confidence': 0.92789972,\n",
       "      'transcript': 'tell me a joke'},\n",
       "     {'transcript': 'Ashok'}],\n",
       "    'final': True},\n",
       "   {'alternative': [{'confidence': 0.98762906,\n",
       "      'transcript': 'tell me a joke'}],\n",
       "    'final': True},\n",
       "   {'alternative': [{'confidence': 0.98762906,\n",
       "      'transcript': 'tell me a joke'}],\n",
       "    'final': True}],\n",
       "  'turn off voice control': [{'alternative': [{'confidence': 0.98762906,\n",
       "      'transcript': 'turn off voice control'}],\n",
       "    'final': True},\n",
       "   {'alternative': [{'confidence': 0.98762906,\n",
       "      'transcript': 'turn off voice control'}],\n",
       "    'final': True},\n",
       "   {'alternative': [{'confidence': 0.96433353,\n",
       "      'transcript': 'turn off voice control'},\n",
       "     {'transcript': 'turn off switch control'}],\n",
       "    'final': True}],\n",
       "  'turn up volume': [{'alternative': [{'confidence': 0.98762912,\n",
       "      'transcript': 'turn up volume'}],\n",
       "    'final': True},\n",
       "   {'alternative': [{'confidence': 0.98762912,\n",
       "      'transcript': 'turn up volume'}],\n",
       "    'final': True},\n",
       "   {'alternative': [{'confidence': 0.98762912,\n",
       "      'transcript': 'turn up volume'}],\n",
       "    'final': True}],\n",
       "  'watch titanic': [{'alternative': [{'confidence': 0.9391948,\n",
       "      'transcript': 'watch Titanic'},\n",
       "     {'transcript': 'watch charger.'},\n",
       "     {'transcript': 'watch charger'},\n",
       "     {'transcript': 'watch'}],\n",
       "    'final': True},\n",
       "   {'alternative': [{'confidence': 0.98762906, 'transcript': 'watch Titanic'}],\n",
       "    'final': True},\n",
       "   []]}}"
      ]
     },
     "execution_count": 22,
     "metadata": {},
     "output_type": "execute_result"
    }
   ],
   "source": [
    "FinalTotalDict"
   ]
  }
 ],
 "metadata": {
  "colab": {
   "authorship_tag": "ABX9TyOWUTUPdkyYWhB5dXiR9bH0",
   "collapsed_sections": [],
   "name": "SpeechRecognizerGoogle.ipynb",
   "provenance": []
  },
  "kernelspec": {
   "display_name": "Python 3",
   "language": "python",
   "name": "python3"
  },
  "language_info": {
   "codemirror_mode": {
    "name": "ipython",
    "version": 3
   },
   "file_extension": ".py",
   "mimetype": "text/x-python",
   "name": "python",
   "nbconvert_exporter": "python",
   "pygments_lexer": "ipython3",
   "version": "3.8.5"
  }
 },
 "nbformat": 4,
 "nbformat_minor": 1
}
